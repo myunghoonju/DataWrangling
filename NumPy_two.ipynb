{
  "nbformat": 4,
  "nbformat_minor": 0,
  "metadata": {
    "colab": {
      "name": "NumPy.ipynb",
      "provenance": [],
      "collapsed_sections": []
    },
    "kernelspec": {
      "name": "python3",
      "display_name": "Python 3"
    },
    "accelerator": "GPU"
  },
  "cells": [
    {
      "cell_type": "code",
      "metadata": {
        "id": "wFmWhXvf02Qq",
        "colab_type": "code",
        "colab": {}
      },
      "source": [
        "#files!\n",
        "path = './segismundo.txt'"
      ],
      "execution_count": 0,
      "outputs": []
    },
    {
      "cell_type": "code",
      "metadata": {
        "id": "n-3_nX236YgH",
        "colab_type": "code",
        "colab": {}
      },
      "source": [
        "f = open(path)"
      ],
      "execution_count": 0,
      "outputs": []
    },
    {
      "cell_type": "code",
      "metadata": {
        "id": "m-dj6yJY9wEa",
        "colab_type": "code",
        "colab": {}
      },
      "source": [
        "lines = [x.rstrip() for x in f]"
      ],
      "execution_count": 0,
      "outputs": []
    },
    {
      "cell_type": "code",
      "metadata": {
        "id": "wtgI9a62-UGP",
        "colab_type": "code",
        "outputId": "a632a086-1c55-4d7c-ba48-5b03dd51de46",
        "colab": {
          "base_uri": "https://localhost:8080/",
          "height": 185
        }
      },
      "source": [
        "lines"
      ],
      "execution_count": 0,
      "outputs": [
        {
          "output_type": "execute_result",
          "data": {
            "text/plain": [
              "['\\ufeffSueña el rico en su riqueza',\n",
              " 'que más cuidados le ofrece',\n",
              " \"sueña el pobre que padece',\",\n",
              " \"su miseria y su pobreza;',\",\n",
              " \"sueña el que a medrar empieza,',\",\n",
              " \"sueña el que afana y pretende,',\",\n",
              " \"sueña el que agravia y ofende,',\",\n",
              " \"'y en el mundo, en conclusión,',\",\n",
              " \"'todos sueñan lo que son,',\",\n",
              " \"'aunque ninguno lo entiende.',\"]"
            ]
          },
          "metadata": {
            "tags": []
          },
          "execution_count": 5
        }
      ]
    },
    {
      "cell_type": "code",
      "metadata": {
        "id": "eoMnbQ4k-V3l",
        "colab_type": "code",
        "outputId": "af63aa00-3c0f-4e6c-9d6b-151da02910fc",
        "colab": {
          "base_uri": "https://localhost:8080/",
          "height": 34
        }
      },
      "source": [
        "import sys\n",
        "sys.getdefaultencoding()"
      ],
      "execution_count": 0,
      "outputs": [
        {
          "output_type": "execute_result",
          "data": {
            "text/plain": [
              "'utf-8'"
            ]
          },
          "metadata": {
            "tags": []
          },
          "execution_count": 6
        }
      ]
    },
    {
      "cell_type": "code",
      "metadata": {
        "id": "h3XlD4q1-6gc",
        "colab_type": "code",
        "outputId": "1cb78e04-e96b-41fc-d78a-a13b8b19ff60",
        "colab": {
          "base_uri": "https://localhost:8080/",
          "height": 34
        }
      },
      "source": [
        "type(lines)"
      ],
      "execution_count": 0,
      "outputs": [
        {
          "output_type": "execute_result",
          "data": {
            "text/plain": [
              "list"
            ]
          },
          "metadata": {
            "tags": []
          },
          "execution_count": 7
        }
      ]
    },
    {
      "cell_type": "code",
      "metadata": {
        "id": "3swGuCp4_kuH",
        "colab_type": "code",
        "colab": {}
      },
      "source": [
        "#numpy\n",
        "import numpy as np"
      ],
      "execution_count": 0,
      "outputs": []
    },
    {
      "cell_type": "code",
      "metadata": {
        "id": "IjpSyutwHdNU",
        "colab_type": "code",
        "colab": {}
      },
      "source": [
        "data = np.random.rand(2,3)"
      ],
      "execution_count": 0,
      "outputs": []
    },
    {
      "cell_type": "code",
      "metadata": {
        "id": "3GZzLXQAHk3e",
        "colab_type": "code",
        "outputId": "fb8718fe-015c-4fb2-d181-62bee5f44692",
        "colab": {
          "base_uri": "https://localhost:8080/",
          "height": 101
        }
      },
      "source": [
        "print(data*10)\n",
        "print('***')\n",
        "print(data + data)"
      ],
      "execution_count": 0,
      "outputs": [
        {
          "output_type": "stream",
          "text": [
            "[[5.96122652 7.46814365 7.84511312]\n",
            " [1.10178911 2.66690744 5.30287315]]\n",
            "***\n",
            "[[1.1922453  1.49362873 1.56902262]\n",
            " [0.22035782 0.53338149 1.06057463]]\n"
          ],
          "name": "stdout"
        }
      ]
    },
    {
      "cell_type": "code",
      "metadata": {
        "id": "Wjqovl3GHtJf",
        "colab_type": "code",
        "colab": {}
      },
      "source": [
        "data2 = [[1, 2, 3, 4], [5, 6, 7, 8]]"
      ],
      "execution_count": 0,
      "outputs": []
    },
    {
      "cell_type": "code",
      "metadata": {
        "id": "9bTLs0iAMoH-",
        "colab_type": "code",
        "colab": {}
      },
      "source": [
        "arr2 = np.array(data2)"
      ],
      "execution_count": 0,
      "outputs": []
    },
    {
      "cell_type": "code",
      "metadata": {
        "id": "HdJ1olG0MznB",
        "colab_type": "code",
        "outputId": "4d30eb07-e8ce-4acb-ac88-4e535052009b",
        "colab": {
          "base_uri": "https://localhost:8080/",
          "height": 50
        }
      },
      "source": [
        "arr2"
      ],
      "execution_count": 0,
      "outputs": [
        {
          "output_type": "execute_result",
          "data": {
            "text/plain": [
              "array([[1, 2, 3, 4],\n",
              "       [5, 6, 7, 8]])"
            ]
          },
          "metadata": {
            "tags": []
          },
          "execution_count": 22
        }
      ]
    },
    {
      "cell_type": "code",
      "metadata": {
        "id": "CJ_klOXAM6IH",
        "colab_type": "code",
        "outputId": "995fe6ae-d1d1-4e3a-e2fd-2c2810303af0",
        "colab": {
          "base_uri": "https://localhost:8080/",
          "height": 50
        }
      },
      "source": [
        "print(arr2.ndim)\n",
        "print(arr2.shape)"
      ],
      "execution_count": 0,
      "outputs": [
        {
          "output_type": "stream",
          "text": [
            "2\n",
            "(2, 4)\n"
          ],
          "name": "stdout"
        }
      ]
    },
    {
      "cell_type": "code",
      "metadata": {
        "id": "eRkNFoBUO5ON",
        "colab_type": "code",
        "colab": {}
      },
      "source": [
        "arr = np.array([3.7, -1.2, -2.6, 0.5, 12.9, 10.1])"
      ],
      "execution_count": 0,
      "outputs": []
    },
    {
      "cell_type": "code",
      "metadata": {
        "id": "QcC0VaD0Pe1D",
        "colab_type": "code",
        "outputId": "81a47cbe-3a80-4fb6-9e5c-13a6d4813c31",
        "colab": {
          "base_uri": "https://localhost:8080/",
          "height": 34
        }
      },
      "source": [
        "arr.astype(np.int32)"
      ],
      "execution_count": 0,
      "outputs": [
        {
          "output_type": "execute_result",
          "data": {
            "text/plain": [
              "array([ 3, -1, -2,  0, 12, 10], dtype=int32)"
            ]
          },
          "metadata": {
            "tags": []
          },
          "execution_count": 45
        }
      ]
    },
    {
      "cell_type": "code",
      "metadata": {
        "id": "9-xSuDtIP0Dn",
        "colab_type": "code",
        "outputId": "4e3e2f16-3b03-40ae-880a-ed739c4d5c95",
        "colab": {
          "base_uri": "https://localhost:8080/",
          "height": 34
        }
      },
      "source": [
        "arr.astype(np.float64)"
      ],
      "execution_count": 0,
      "outputs": [
        {
          "output_type": "execute_result",
          "data": {
            "text/plain": [
              "array([ 3.7, -1.2, -2.6,  0.5, 12.9, 10.1])"
            ]
          },
          "metadata": {
            "tags": []
          },
          "execution_count": 46
        }
      ]
    },
    {
      "cell_type": "code",
      "metadata": {
        "id": "IQExm3_qP7VN",
        "colab_type": "code",
        "colab": {}
      },
      "source": [
        "numeric_strings = np.array(['1.25', '-9.6', '42'], dtype=np.string_)"
      ],
      "execution_count": 0,
      "outputs": []
    },
    {
      "cell_type": "code",
      "metadata": {
        "id": "TCZjv3AkP-02",
        "colab_type": "code",
        "outputId": "8cd7b600-cbe0-4837-aabe-0c05fb96e3aa",
        "colab": {
          "base_uri": "https://localhost:8080/",
          "height": 34
        }
      },
      "source": [
        "print(numeric_strings)"
      ],
      "execution_count": 0,
      "outputs": [
        {
          "output_type": "stream",
          "text": [
            "[b'1.25' b'-9.6' b'42']\n"
          ],
          "name": "stdout"
        }
      ]
    },
    {
      "cell_type": "code",
      "metadata": {
        "id": "6Zojx6miQW0b",
        "colab_type": "code",
        "outputId": "e5b82ad3-bd79-43dd-b431-ce08cc27a307",
        "colab": {
          "base_uri": "https://localhost:8080/",
          "height": 34
        }
      },
      "source": [
        "numeric_strings.astype(float)"
      ],
      "execution_count": 0,
      "outputs": [
        {
          "output_type": "execute_result",
          "data": {
            "text/plain": [
              "array([ 1.25, -9.6 , 42.  ])"
            ]
          },
          "metadata": {
            "tags": []
          },
          "execution_count": 50
        }
      ]
    },
    {
      "cell_type": "code",
      "metadata": {
        "id": "HgXZ4745O994",
        "colab_type": "code",
        "outputId": "ddf5bda0-6212-44e2-d51f-54202ab7c052",
        "colab": {
          "base_uri": "https://localhost:8080/",
          "height": 34
        }
      },
      "source": [
        "#more numpy array!\n",
        "#ndarray is just a chunk of memory\n",
        "#strides-> indexing schime\n",
        "np.ones((3, 4, 5), dtype=np.float64).strides"
      ],
      "execution_count": 0,
      "outputs": [
        {
          "output_type": "execute_result",
          "data": {
            "text/plain": [
              "(160, 40, 8)"
            ]
          },
          "metadata": {
            "tags": []
          },
          "execution_count": 3
        }
      ]
    },
    {
      "cell_type": "code",
      "metadata": {
        "id": "XmaOguHUT7Bq",
        "colab_type": "code",
        "colab": {}
      },
      "source": [
        "'''\n",
        "C/row major order\n",
        "Traverse higher dimensions first (e.g., axis 1 before advancing on axis 0)\n",
        "\n",
        "Fortran/column major order\n",
        "Traverse higher dimensions last (e.g., axis 0 before advancing on axis 1)\n",
        "'''\n",
        "\n",
        "arr = np.arange(12).reshape((3, 4))"
      ],
      "execution_count": 0,
      "outputs": []
    },
    {
      "cell_type": "code",
      "metadata": {
        "id": "FZbiWjLGUDQC",
        "colab_type": "code",
        "outputId": "fab0c1c7-cb94-4447-f68d-82de19ae97fc",
        "colab": {
          "base_uri": "https://localhost:8080/",
          "height": 67
        }
      },
      "source": [
        "arr"
      ],
      "execution_count": 0,
      "outputs": [
        {
          "output_type": "execute_result",
          "data": {
            "text/plain": [
              "array([[ 0,  1,  2,  3],\n",
              "       [ 4,  5,  6,  7],\n",
              "       [ 8,  9, 10, 11]])"
            ]
          },
          "metadata": {
            "tags": []
          },
          "execution_count": 5
        }
      ]
    },
    {
      "cell_type": "code",
      "metadata": {
        "id": "87GyJKZlUEMW",
        "colab_type": "code",
        "outputId": "214f6368-735f-4b42-b2d3-be004291eca3",
        "colab": {
          "base_uri": "https://localhost:8080/",
          "height": 34
        }
      },
      "source": [
        "arr.ravel() #C"
      ],
      "execution_count": 0,
      "outputs": [
        {
          "output_type": "execute_result",
          "data": {
            "text/plain": [
              "array([ 0,  1,  2,  3,  4,  5,  6,  7,  8,  9, 10, 11])"
            ]
          },
          "metadata": {
            "tags": []
          },
          "execution_count": 6
        }
      ]
    },
    {
      "cell_type": "code",
      "metadata": {
        "id": "T00_UfbTUGhC",
        "colab_type": "code",
        "outputId": "5e4aa076-b78c-4611-d506-f216b75a07cb",
        "colab": {
          "base_uri": "https://localhost:8080/",
          "height": 34
        }
      },
      "source": [
        "arr.ravel('F') #Fortran"
      ],
      "execution_count": 0,
      "outputs": [
        {
          "output_type": "execute_result",
          "data": {
            "text/plain": [
              "array([ 0,  4,  8,  1,  5,  9,  2,  6, 10,  3,  7, 11])"
            ]
          },
          "metadata": {
            "tags": []
          },
          "execution_count": 7
        }
      ]
    },
    {
      "cell_type": "code",
      "metadata": {
        "id": "X04WhbKDUWSL",
        "colab_type": "code",
        "colab": {}
      },
      "source": [
        "#Join arrays\n",
        "arr1 = np.array([[1, 2, 3], [4, 5, 6]])\n",
        "arr2 = np.array([[7, 8, 9], [10, 11, 12]])"
      ],
      "execution_count": 0,
      "outputs": []
    },
    {
      "cell_type": "code",
      "metadata": {
        "id": "O30ZO5vTUa9X",
        "colab_type": "code",
        "outputId": "6e0877b3-7e7d-490d-f566-6cb44dd596e1",
        "colab": {
          "base_uri": "https://localhost:8080/",
          "height": 84
        }
      },
      "source": [
        "np.vstack((arr1,arr2)) #row-wise"
      ],
      "execution_count": 0,
      "outputs": [
        {
          "output_type": "execute_result",
          "data": {
            "text/plain": [
              "array([[ 1,  2,  3],\n",
              "       [ 4,  5,  6],\n",
              "       [ 7,  8,  9],\n",
              "       [10, 11, 12]])"
            ]
          },
          "metadata": {
            "tags": []
          },
          "execution_count": 10
        }
      ]
    },
    {
      "cell_type": "code",
      "metadata": {
        "id": "5t4sO_zpUkAp",
        "colab_type": "code",
        "outputId": "503d90ee-5aae-4779-b206-252479348ad0",
        "colab": {
          "base_uri": "https://localhost:8080/",
          "height": 50
        }
      },
      "source": [
        "np.hstack((arr1,arr2)) #column-wise"
      ],
      "execution_count": 0,
      "outputs": [
        {
          "output_type": "execute_result",
          "data": {
            "text/plain": [
              "array([[ 1,  2,  3,  7,  8,  9],\n",
              "       [ 4,  5,  6, 10, 11, 12]])"
            ]
          },
          "metadata": {
            "tags": []
          },
          "execution_count": 11
        }
      ]
    },
    {
      "cell_type": "code",
      "metadata": {
        "id": "NxIbzBZ1U8eI",
        "colab_type": "code",
        "colab": {}
      },
      "source": [
        "#split\n",
        "arr = np.random.randn(5, 2)\n",
        "first, second, third = np.split(arr, [1, 3])"
      ],
      "execution_count": 0,
      "outputs": []
    },
    {
      "cell_type": "code",
      "metadata": {
        "id": "D4RaDwZbVA_7",
        "colab_type": "code",
        "outputId": "a76e99e8-6513-442b-ae78-5733313cb732",
        "colab": {
          "base_uri": "https://localhost:8080/",
          "height": 134
        }
      },
      "source": [
        "print(first)\n",
        "print()\n",
        "print(second)\n",
        "print()\n",
        "print(third)"
      ],
      "execution_count": 0,
      "outputs": [
        {
          "output_type": "stream",
          "text": [
            "[[0.71703019 2.38387886]]\n",
            "\n",
            "[[ 0.76297523  0.8693183 ]\n",
            " [-2.02039032 -0.39773367]]\n",
            "\n",
            "[[-1.29150494 -2.51780288]\n",
            " [-0.90702813  1.66176387]]\n"
          ],
          "name": "stdout"
        }
      ]
    },
    {
      "cell_type": "code",
      "metadata": {
        "id": "8A3wkhJrWfad",
        "colab_type": "code",
        "colab": {}
      },
      "source": [
        "#Broadcasting describes how arithmetic works between arrays of different shapes: array computation\n",
        "arr = np.random.randn(4, 3)"
      ],
      "execution_count": 0,
      "outputs": []
    },
    {
      "cell_type": "code",
      "metadata": {
        "id": "Vusd_i5yKCaH",
        "colab_type": "code",
        "colab": {}
      },
      "source": [
        "row_means = arr.mean(1)"
      ],
      "execution_count": 0,
      "outputs": []
    },
    {
      "cell_type": "code",
      "metadata": {
        "id": "OWk8PDfmKOld",
        "colab_type": "code",
        "outputId": "5c2a0879-a039-4f54-e7a3-46c1b76ab717",
        "colab": {
          "base_uri": "https://localhost:8080/",
          "height": 84
        }
      },
      "source": [
        "row_means.reshape(4,1)"
      ],
      "execution_count": 0,
      "outputs": [
        {
          "output_type": "execute_result",
          "data": {
            "text/plain": [
              "array([[-1.00229935],\n",
              "       [ 0.16183277],\n",
              "       [-0.85910596],\n",
              "       [-0.13487464]])"
            ]
          },
          "metadata": {
            "tags": []
          },
          "execution_count": 7
        }
      ]
    },
    {
      "cell_type": "code",
      "metadata": {
        "id": "L4GZaiEgKXej",
        "colab_type": "code",
        "outputId": "699f5508-72d9-4bd6-e344-9329ab352bab",
        "colab": {
          "base_uri": "https://localhost:8080/",
          "height": 84
        }
      },
      "source": [
        "arr - arr.mean(1).reshape(4,1) #According to the broadcasting rule, the “broadcast dimensions” must be 1 in the smaller array"
      ],
      "execution_count": 0,
      "outputs": [
        {
          "output_type": "execute_result",
          "data": {
            "text/plain": [
              "array([[ 1.03131944,  0.12648983, -1.15780926],\n",
              "       [ 1.24858241, -0.42148007, -0.82710234],\n",
              "       [ 1.71424557, -0.58470337, -1.1295422 ],\n",
              "       [ 0.21742847,  0.14490567, -0.36233414]])"
            ]
          },
          "metadata": {
            "tags": []
          },
          "execution_count": 9
        }
      ]
    },
    {
      "cell_type": "code",
      "metadata": {
        "id": "xVc5GfR8MLKD",
        "colab_type": "code",
        "outputId": "182fe1dc-b210-4705-e8ee-07c283c7994a",
        "colab": {
          "base_uri": "https://localhost:8080/",
          "height": 84
        }
      },
      "source": [
        "#new-axis\n",
        "arr = np.zeros((4,4))\n",
        "print(arr)"
      ],
      "execution_count": 2,
      "outputs": [
        {
          "output_type": "stream",
          "text": [
            "[[0. 0. 0. 0.]\n",
            " [0. 0. 0. 0.]\n",
            " [0. 0. 0. 0.]\n",
            " [0. 0. 0. 0.]]\n"
          ],
          "name": "stdout"
        }
      ]
    },
    {
      "cell_type": "code",
      "metadata": {
        "id": "Kmtm-rUkOuxY",
        "colab_type": "code",
        "outputId": "ff8f8df5-6611-432f-d055-aaa463247c84",
        "colab": {
          "base_uri": "https://localhost:8080/",
          "height": 34
        }
      },
      "source": [
        "arr_3d = arr[:,np.newaxis,:]\n",
        "arr_3d.shape"
      ],
      "execution_count": 3,
      "outputs": [
        {
          "output_type": "execute_result",
          "data": {
            "text/plain": [
              "(4, 1, 4)"
            ]
          },
          "metadata": {
            "tags": []
          },
          "execution_count": 3
        }
      ]
    },
    {
      "cell_type": "code",
      "metadata": {
        "id": "dilcc7R8O-r1",
        "colab_type": "code",
        "colab": {}
      },
      "source": [
        "arr_1d = np.random.normal(size=3)"
      ],
      "execution_count": 0,
      "outputs": []
    },
    {
      "cell_type": "code",
      "metadata": {
        "id": "8fpoE1Ynb1o4",
        "colab_type": "code",
        "colab": {
          "base_uri": "https://localhost:8080/",
          "height": 34
        },
        "outputId": "450a1de3-18aa-4e94-dc40-80ebd3121941"
      },
      "source": [
        "arr_1d"
      ],
      "execution_count": 5,
      "outputs": [
        {
          "output_type": "execute_result",
          "data": {
            "text/plain": [
              "array([ 0.15558795, -0.9191727 ,  2.01572858])"
            ]
          },
          "metadata": {
            "tags": []
          },
          "execution_count": 5
        }
      ]
    },
    {
      "cell_type": "code",
      "metadata": {
        "id": "nWR0jgLKb4Qd",
        "colab_type": "code",
        "colab": {
          "base_uri": "https://localhost:8080/",
          "height": 67
        },
        "outputId": "ff63fdce-b86b-4ab1-9ac6-5c1b49553860"
      },
      "source": [
        "arr_1d[:,np.newaxis]"
      ],
      "execution_count": 6,
      "outputs": [
        {
          "output_type": "execute_result",
          "data": {
            "text/plain": [
              "array([[ 0.15558795],\n",
              "       [-0.9191727 ],\n",
              "       [ 2.01572858]])"
            ]
          },
          "metadata": {
            "tags": []
          },
          "execution_count": 6
        }
      ]
    },
    {
      "cell_type": "code",
      "metadata": {
        "id": "dZEg_sc_cABl",
        "colab_type": "code",
        "colab": {
          "base_uri": "https://localhost:8080/",
          "height": 34
        },
        "outputId": "cbb6f951-8d93-4c9c-c8c4-f45dfec7d360"
      },
      "source": [
        "arr_1d[np.newaxis,:]"
      ],
      "execution_count": 10,
      "outputs": [
        {
          "output_type": "execute_result",
          "data": {
            "text/plain": [
              "array([[ 0.15558795, -0.9191727 ,  2.01572858]])"
            ]
          },
          "metadata": {
            "tags": []
          },
          "execution_count": 10
        }
      ]
    },
    {
      "cell_type": "code",
      "metadata": {
        "id": "JruRnmggcJvJ",
        "colab_type": "code",
        "colab": {
          "base_uri": "https://localhost:8080/",
          "height": 34
        },
        "outputId": "cd862827-a928-4825-dfc1-802312171fb4"
      },
      "source": [
        "a.shape"
      ],
      "execution_count": 9,
      "outputs": [
        {
          "output_type": "execute_result",
          "data": {
            "text/plain": [
              "(1, 3)"
            ]
          },
          "metadata": {
            "tags": []
          },
          "execution_count": 9
        }
      ]
    },
    {
      "cell_type": "code",
      "metadata": {
        "id": "ZIzWgOc6cTuh",
        "colab_type": "code",
        "colab": {}
      },
      "source": [
        "arr = np.random.rand(3,4,5)"
      ],
      "execution_count": 0,
      "outputs": []
    },
    {
      "cell_type": "code",
      "metadata": {
        "id": "6AvYJHxocy2Y",
        "colab_type": "code",
        "colab": {
          "base_uri": "https://localhost:8080/",
          "height": 252
        },
        "outputId": "c169b7ed-2860-45fd-dde8-4b7b59c4279b"
      },
      "source": [
        "arr"
      ],
      "execution_count": 14,
      "outputs": [
        {
          "output_type": "execute_result",
          "data": {
            "text/plain": [
              "array([[[0.00889111, 0.07443574, 0.28545714, 0.204222  , 0.62939348],\n",
              "        [0.83741527, 0.96499235, 0.79320402, 0.41348214, 0.62249796],\n",
              "        [0.8167271 , 0.68110389, 0.45157582, 0.33774241, 0.45653519],\n",
              "        [0.08436288, 0.914174  , 0.01874728, 0.78137584, 0.95268151]],\n",
              "\n",
              "       [[0.20828376, 0.93762814, 0.35700995, 0.95003566, 0.57761516],\n",
              "        [0.44402525, 0.95252374, 0.40141991, 0.49369371, 0.77532791],\n",
              "        [0.68179918, 0.7408325 , 0.4868319 , 0.99827737, 0.73972207],\n",
              "        [0.94876568, 0.34988311, 0.29954051, 0.09172657, 0.90398873]],\n",
              "\n",
              "       [[0.60903976, 0.89018743, 0.5493616 , 0.73384608, 0.27018522],\n",
              "        [0.71258453, 0.08744883, 0.20598945, 0.27986658, 0.36412102],\n",
              "        [0.37396769, 0.19226105, 0.63539876, 0.47607562, 0.22874327],\n",
              "        [0.5292467 , 0.48929   , 0.41272527, 0.34580795, 0.75434733]]])"
            ]
          },
          "metadata": {
            "tags": []
          },
          "execution_count": 14
        }
      ]
    },
    {
      "cell_type": "code",
      "metadata": {
        "id": "yVw24E3Bcl46",
        "colab_type": "code",
        "colab": {}
      },
      "source": [
        "depth_means = arr.mean(2)"
      ],
      "execution_count": 0,
      "outputs": []
    },
    {
      "cell_type": "code",
      "metadata": {
        "id": "FpaL5tgrcpDQ",
        "colab_type": "code",
        "colab": {
          "base_uri": "https://localhost:8080/",
          "height": 67
        },
        "outputId": "563f31c8-a684-4db9-e602-d43b6f7a1a54"
      },
      "source": [
        "depth_means"
      ],
      "execution_count": 13,
      "outputs": [
        {
          "output_type": "execute_result",
          "data": {
            "text/plain": [
              "array([[0.24047989, 0.72631835, 0.54873688, 0.5502683 ],\n",
              "       [0.60611453, 0.61339811, 0.72949261, 0.51878092],\n",
              "       [0.61052402, 0.33000208, 0.38128928, 0.50628345]])"
            ]
          },
          "metadata": {
            "tags": []
          },
          "execution_count": 13
        }
      ]
    },
    {
      "cell_type": "code",
      "metadata": {
        "id": "D2WBvr3sdL3Y",
        "colab_type": "code",
        "colab": {
          "base_uri": "https://localhost:8080/",
          "height": 34
        },
        "outputId": "2d582044-e7c6-4256-e15b-0db0e928c7dc"
      },
      "source": [
        "((0.00889111 + 0.07443574 + 0.28545714 + 0.204222 + 0.62939348)/5)"
      ],
      "execution_count": 19,
      "outputs": [
        {
          "output_type": "execute_result",
          "data": {
            "text/plain": [
              "0.240479894"
            ]
          },
          "metadata": {
            "tags": []
          },
          "execution_count": 19
        }
      ]
    },
    {
      "cell_type": "code",
      "metadata": {
        "id": "WIs4pgs7d205",
        "colab_type": "code",
        "colab": {}
      },
      "source": [
        "demeanded = arr - depth_means[:,:,np.newaxis]"
      ],
      "execution_count": 0,
      "outputs": []
    },
    {
      "cell_type": "code",
      "metadata": {
        "id": "es1HxDdveMx8",
        "colab_type": "code",
        "colab": {
          "base_uri": "https://localhost:8080/",
          "height": 118
        },
        "outputId": "be65493b-838c-43a0-b406-c711fc40141a"
      },
      "source": [
        "demeanded.mean(2)"
      ],
      "execution_count": 21,
      "outputs": [
        {
          "output_type": "execute_result",
          "data": {
            "text/plain": [
              "array([[-1.11022302e-17, -2.22044605e-17,  4.44089210e-17,\n",
              "        -2.22044605e-17],\n",
              "       [-2.22044605e-17,  0.00000000e+00,  0.00000000e+00,\n",
              "        -6.66133815e-17],\n",
              "       [ 4.44089210e-17, -1.11022302e-17, -2.22044605e-17,\n",
              "         2.22044605e-17]])"
            ]
          },
          "metadata": {
            "tags": []
          },
          "execution_count": 21
        }
      ]
    },
    {
      "cell_type": "code",
      "metadata": {
        "id": "YbVjbdL-ejmd",
        "colab_type": "code",
        "colab": {}
      },
      "source": [
        "#Setting array values by broadcasting\n",
        "arr = np.zeros((4,3))"
      ],
      "execution_count": 0,
      "outputs": []
    },
    {
      "cell_type": "code",
      "metadata": {
        "id": "QLmvxNNJfbcR",
        "colab_type": "code",
        "colab": {}
      },
      "source": [
        "arr[:5] = 5"
      ],
      "execution_count": 0,
      "outputs": []
    },
    {
      "cell_type": "code",
      "metadata": {
        "id": "HspLflc2feun",
        "colab_type": "code",
        "colab": {
          "base_uri": "https://localhost:8080/",
          "height": 84
        },
        "outputId": "6b38fd90-cc2f-449f-a975-06d4f208979e"
      },
      "source": [
        "arr"
      ],
      "execution_count": 25,
      "outputs": [
        {
          "output_type": "execute_result",
          "data": {
            "text/plain": [
              "array([[5., 5., 5.],\n",
              "       [5., 5., 5.],\n",
              "       [5., 5., 5.],\n",
              "       [5., 5., 5.]])"
            ]
          },
          "metadata": {
            "tags": []
          },
          "execution_count": 25
        }
      ]
    },
    {
      "cell_type": "code",
      "metadata": {
        "id": "0W0sMGYMfhvE",
        "colab_type": "code",
        "colab": {}
      },
      "source": [
        "col = np.array([1.28,-0.42,0.44,1.6])"
      ],
      "execution_count": 0,
      "outputs": []
    },
    {
      "cell_type": "code",
      "metadata": {
        "id": "omjFLCTtfqtb",
        "colab_type": "code",
        "colab": {
          "base_uri": "https://localhost:8080/",
          "height": 34
        },
        "outputId": "93cd7935-e417-4741-bcf2-ce5d54fa82c8"
      },
      "source": [
        "col"
      ],
      "execution_count": 27,
      "outputs": [
        {
          "output_type": "execute_result",
          "data": {
            "text/plain": [
              "array([ 1.28, -0.42,  0.44,  1.6 ])"
            ]
          },
          "metadata": {
            "tags": []
          },
          "execution_count": 27
        }
      ]
    },
    {
      "cell_type": "code",
      "metadata": {
        "id": "sYpZMTLHfnwK",
        "colab_type": "code",
        "colab": {}
      },
      "source": [
        "arr[:] = col[:,np.newaxis]"
      ],
      "execution_count": 0,
      "outputs": []
    },
    {
      "cell_type": "code",
      "metadata": {
        "id": "gmX8Evohfw-j",
        "colab_type": "code",
        "colab": {
          "base_uri": "https://localhost:8080/",
          "height": 84
        },
        "outputId": "9ec44411-b7c5-44e4-a998-e8635c375454"
      },
      "source": [
        "arr"
      ],
      "execution_count": 29,
      "outputs": [
        {
          "output_type": "execute_result",
          "data": {
            "text/plain": [
              "array([[ 1.28,  1.28,  1.28],\n",
              "       [-0.42, -0.42, -0.42],\n",
              "       [ 0.44,  0.44,  0.44],\n",
              "       [ 1.6 ,  1.6 ,  1.6 ]])"
            ]
          },
          "metadata": {
            "tags": []
          },
          "execution_count": 29
        }
      ]
    },
    {
      "cell_type": "code",
      "metadata": {
        "id": "StLiFWDsfzTy",
        "colab_type": "code",
        "colab": {}
      },
      "source": [
        "arr[:2] = [[-1.37],[0.509]]"
      ],
      "execution_count": 0,
      "outputs": []
    },
    {
      "cell_type": "code",
      "metadata": {
        "id": "tVw1huNTf682",
        "colab_type": "code",
        "colab": {
          "base_uri": "https://localhost:8080/",
          "height": 84
        },
        "outputId": "5800d86b-1a4c-4e44-b67d-1581def1e784"
      },
      "source": [
        "arr"
      ],
      "execution_count": 31,
      "outputs": [
        {
          "output_type": "execute_result",
          "data": {
            "text/plain": [
              "array([[-1.37 , -1.37 , -1.37 ],\n",
              "       [ 0.509,  0.509,  0.509],\n",
              "       [ 0.44 ,  0.44 ,  0.44 ],\n",
              "       [ 1.6  ,  1.6  ,  1.6  ]])"
            ]
          },
          "metadata": {
            "tags": []
          },
          "execution_count": 31
        }
      ]
    },
    {
      "cell_type": "code",
      "metadata": {
        "id": "dMpfhVLkf9VH",
        "colab_type": "code",
        "colab": {}
      },
      "source": [
        "arr[:3] = [[-1.0],[2.0],[3.0]]"
      ],
      "execution_count": 0,
      "outputs": []
    },
    {
      "cell_type": "code",
      "metadata": {
        "id": "3w3y0pSlgB7L",
        "colab_type": "code",
        "colab": {
          "base_uri": "https://localhost:8080/",
          "height": 84
        },
        "outputId": "6914beff-de3f-47b0-ef15-6a2699c6cdf9"
      },
      "source": [
        "arr"
      ],
      "execution_count": 50,
      "outputs": [
        {
          "output_type": "execute_result",
          "data": {
            "text/plain": [
              "array([[-1. , -1. , -1. ],\n",
              "       [ 2. ,  2. ,  2. ],\n",
              "       [ 3. ,  3. ,  3. ],\n",
              "       [ 1.6,  1.6,  1.6]])"
            ]
          },
          "metadata": {
            "tags": []
          },
          "execution_count": 50
        }
      ]
    }
  ]
}