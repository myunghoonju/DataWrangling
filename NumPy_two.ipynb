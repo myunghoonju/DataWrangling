{
  "nbformat": 4,
  "nbformat_minor": 0,
  "metadata": {
    "colab": {
      "name": "NumPy.ipynb",
      "provenance": [],
      "collapsed_sections": []
    },
    "kernelspec": {
      "name": "python3",
      "display_name": "Python 3"
    }
  },
  "cells": [
    {
      "cell_type": "code",
      "metadata": {
        "id": "wFmWhXvf02Qq",
        "colab_type": "code",
        "colab": {}
      },
      "source": [
        "#files!\n",
        "path = './segismundo.txt'"
      ],
      "execution_count": 0,
      "outputs": []
    },
    {
      "cell_type": "code",
      "metadata": {
        "id": "n-3_nX236YgH",
        "colab_type": "code",
        "colab": {}
      },
      "source": [
        "f = open(path)"
      ],
      "execution_count": 0,
      "outputs": []
    },
    {
      "cell_type": "code",
      "metadata": {
        "id": "m-dj6yJY9wEa",
        "colab_type": "code",
        "colab": {}
      },
      "source": [
        "lines = [x.rstrip() for x in f]"
      ],
      "execution_count": 0,
      "outputs": []
    },
    {
      "cell_type": "code",
      "metadata": {
        "id": "wtgI9a62-UGP",
        "colab_type": "code",
        "outputId": "a632a086-1c55-4d7c-ba48-5b03dd51de46",
        "colab": {
          "base_uri": "https://localhost:8080/",
          "height": 185
        }
      },
      "source": [
        "lines"
      ],
      "execution_count": 0,
      "outputs": [
        {
          "output_type": "execute_result",
          "data": {
            "text/plain": [
              "['\\ufeffSueña el rico en su riqueza',\n",
              " 'que más cuidados le ofrece',\n",
              " \"sueña el pobre que padece',\",\n",
              " \"su miseria y su pobreza;',\",\n",
              " \"sueña el que a medrar empieza,',\",\n",
              " \"sueña el que afana y pretende,',\",\n",
              " \"sueña el que agravia y ofende,',\",\n",
              " \"'y en el mundo, en conclusión,',\",\n",
              " \"'todos sueñan lo que son,',\",\n",
              " \"'aunque ninguno lo entiende.',\"]"
            ]
          },
          "metadata": {
            "tags": []
          },
          "execution_count": 5
        }
      ]
    },
    {
      "cell_type": "code",
      "metadata": {
        "id": "eoMnbQ4k-V3l",
        "colab_type": "code",
        "outputId": "af63aa00-3c0f-4e6c-9d6b-151da02910fc",
        "colab": {
          "base_uri": "https://localhost:8080/",
          "height": 34
        }
      },
      "source": [
        "import sys\n",
        "sys.getdefaultencoding()"
      ],
      "execution_count": 0,
      "outputs": [
        {
          "output_type": "execute_result",
          "data": {
            "text/plain": [
              "'utf-8'"
            ]
          },
          "metadata": {
            "tags": []
          },
          "execution_count": 6
        }
      ]
    },
    {
      "cell_type": "code",
      "metadata": {
        "id": "h3XlD4q1-6gc",
        "colab_type": "code",
        "outputId": "1cb78e04-e96b-41fc-d78a-a13b8b19ff60",
        "colab": {
          "base_uri": "https://localhost:8080/",
          "height": 34
        }
      },
      "source": [
        "type(lines)"
      ],
      "execution_count": 0,
      "outputs": [
        {
          "output_type": "execute_result",
          "data": {
            "text/plain": [
              "list"
            ]
          },
          "metadata": {
            "tags": []
          },
          "execution_count": 7
        }
      ]
    },
    {
      "cell_type": "code",
      "metadata": {
        "id": "3swGuCp4_kuH",
        "colab_type": "code",
        "colab": {}
      },
      "source": [
        "#numpy\n",
        "import numpy as np"
      ],
      "execution_count": 0,
      "outputs": []
    },
    {
      "cell_type": "code",
      "metadata": {
        "id": "IjpSyutwHdNU",
        "colab_type": "code",
        "colab": {}
      },
      "source": [
        "data = np.random.rand(2,3)"
      ],
      "execution_count": 0,
      "outputs": []
    },
    {
      "cell_type": "code",
      "metadata": {
        "id": "3GZzLXQAHk3e",
        "colab_type": "code",
        "outputId": "fb8718fe-015c-4fb2-d181-62bee5f44692",
        "colab": {
          "base_uri": "https://localhost:8080/",
          "height": 101
        }
      },
      "source": [
        "print(data*10)\n",
        "print('***')\n",
        "print(data + data)"
      ],
      "execution_count": 0,
      "outputs": [
        {
          "output_type": "stream",
          "text": [
            "[[5.96122652 7.46814365 7.84511312]\n",
            " [1.10178911 2.66690744 5.30287315]]\n",
            "***\n",
            "[[1.1922453  1.49362873 1.56902262]\n",
            " [0.22035782 0.53338149 1.06057463]]\n"
          ],
          "name": "stdout"
        }
      ]
    },
    {
      "cell_type": "code",
      "metadata": {
        "id": "Wjqovl3GHtJf",
        "colab_type": "code",
        "colab": {}
      },
      "source": [
        "data2 = [[1, 2, 3, 4], [5, 6, 7, 8]]"
      ],
      "execution_count": 0,
      "outputs": []
    },
    {
      "cell_type": "code",
      "metadata": {
        "id": "9bTLs0iAMoH-",
        "colab_type": "code",
        "colab": {}
      },
      "source": [
        "arr2 = np.array(data2)"
      ],
      "execution_count": 0,
      "outputs": []
    },
    {
      "cell_type": "code",
      "metadata": {
        "id": "HdJ1olG0MznB",
        "colab_type": "code",
        "outputId": "4d30eb07-e8ce-4acb-ac88-4e535052009b",
        "colab": {
          "base_uri": "https://localhost:8080/",
          "height": 50
        }
      },
      "source": [
        "arr2"
      ],
      "execution_count": 0,
      "outputs": [
        {
          "output_type": "execute_result",
          "data": {
            "text/plain": [
              "array([[1, 2, 3, 4],\n",
              "       [5, 6, 7, 8]])"
            ]
          },
          "metadata": {
            "tags": []
          },
          "execution_count": 22
        }
      ]
    },
    {
      "cell_type": "code",
      "metadata": {
        "id": "CJ_klOXAM6IH",
        "colab_type": "code",
        "outputId": "995fe6ae-d1d1-4e3a-e2fd-2c2810303af0",
        "colab": {
          "base_uri": "https://localhost:8080/",
          "height": 50
        }
      },
      "source": [
        "print(arr2.ndim)\n",
        "print(arr2.shape)"
      ],
      "execution_count": 0,
      "outputs": [
        {
          "output_type": "stream",
          "text": [
            "2\n",
            "(2, 4)\n"
          ],
          "name": "stdout"
        }
      ]
    },
    {
      "cell_type": "code",
      "metadata": {
        "id": "eRkNFoBUO5ON",
        "colab_type": "code",
        "colab": {}
      },
      "source": [
        "arr = np.array([3.7, -1.2, -2.6, 0.5, 12.9, 10.1])"
      ],
      "execution_count": 0,
      "outputs": []
    },
    {
      "cell_type": "code",
      "metadata": {
        "id": "QcC0VaD0Pe1D",
        "colab_type": "code",
        "outputId": "81a47cbe-3a80-4fb6-9e5c-13a6d4813c31",
        "colab": {
          "base_uri": "https://localhost:8080/",
          "height": 34
        }
      },
      "source": [
        "arr.astype(np.int32)"
      ],
      "execution_count": 0,
      "outputs": [
        {
          "output_type": "execute_result",
          "data": {
            "text/plain": [
              "array([ 3, -1, -2,  0, 12, 10], dtype=int32)"
            ]
          },
          "metadata": {
            "tags": []
          },
          "execution_count": 45
        }
      ]
    },
    {
      "cell_type": "code",
      "metadata": {
        "id": "9-xSuDtIP0Dn",
        "colab_type": "code",
        "outputId": "4e3e2f16-3b03-40ae-880a-ed739c4d5c95",
        "colab": {
          "base_uri": "https://localhost:8080/",
          "height": 34
        }
      },
      "source": [
        "arr.astype(np.float64)"
      ],
      "execution_count": 0,
      "outputs": [
        {
          "output_type": "execute_result",
          "data": {
            "text/plain": [
              "array([ 3.7, -1.2, -2.6,  0.5, 12.9, 10.1])"
            ]
          },
          "metadata": {
            "tags": []
          },
          "execution_count": 46
        }
      ]
    },
    {
      "cell_type": "code",
      "metadata": {
        "id": "IQExm3_qP7VN",
        "colab_type": "code",
        "colab": {}
      },
      "source": [
        "numeric_strings = np.array(['1.25', '-9.6', '42'], dtype=np.string_)"
      ],
      "execution_count": 0,
      "outputs": []
    },
    {
      "cell_type": "code",
      "metadata": {
        "id": "TCZjv3AkP-02",
        "colab_type": "code",
        "outputId": "8cd7b600-cbe0-4837-aabe-0c05fb96e3aa",
        "colab": {
          "base_uri": "https://localhost:8080/",
          "height": 34
        }
      },
      "source": [
        "print(numeric_strings)"
      ],
      "execution_count": 0,
      "outputs": [
        {
          "output_type": "stream",
          "text": [
            "[b'1.25' b'-9.6' b'42']\n"
          ],
          "name": "stdout"
        }
      ]
    },
    {
      "cell_type": "code",
      "metadata": {
        "id": "6Zojx6miQW0b",
        "colab_type": "code",
        "outputId": "e5b82ad3-bd79-43dd-b431-ce08cc27a307",
        "colab": {
          "base_uri": "https://localhost:8080/",
          "height": 34
        }
      },
      "source": [
        "numeric_strings.astype(float)"
      ],
      "execution_count": 0,
      "outputs": [
        {
          "output_type": "execute_result",
          "data": {
            "text/plain": [
              "array([ 1.25, -9.6 , 42.  ])"
            ]
          },
          "metadata": {
            "tags": []
          },
          "execution_count": 50
        }
      ]
    },
    {
      "cell_type": "code",
      "metadata": {
        "id": "HgXZ4745O994",
        "colab_type": "code",
        "outputId": "ddf5bda0-6212-44e2-d51f-54202ab7c052",
        "colab": {
          "base_uri": "https://localhost:8080/",
          "height": 34
        }
      },
      "source": [
        "#more numpy array!\n",
        "#ndarray is just a chunk of memory\n",
        "#strides-> indexing schime\n",
        "np.ones((3, 4, 5), dtype=np.float64).strides"
      ],
      "execution_count": 0,
      "outputs": [
        {
          "output_type": "execute_result",
          "data": {
            "text/plain": [
              "(160, 40, 8)"
            ]
          },
          "metadata": {
            "tags": []
          },
          "execution_count": 3
        }
      ]
    },
    {
      "cell_type": "code",
      "metadata": {
        "id": "XmaOguHUT7Bq",
        "colab_type": "code",
        "colab": {}
      },
      "source": [
        "'''\n",
        "C/row major order\n",
        "Traverse higher dimensions first (e.g., axis 1 before advancing on axis 0)\n",
        "\n",
        "Fortran/column major order\n",
        "Traverse higher dimensions last (e.g., axis 0 before advancing on axis 1)\n",
        "'''\n",
        "\n",
        "arr = np.arange(12).reshape((3, 4))"
      ],
      "execution_count": 0,
      "outputs": []
    },
    {
      "cell_type": "code",
      "metadata": {
        "id": "FZbiWjLGUDQC",
        "colab_type": "code",
        "outputId": "fab0c1c7-cb94-4447-f68d-82de19ae97fc",
        "colab": {
          "base_uri": "https://localhost:8080/",
          "height": 67
        }
      },
      "source": [
        "arr"
      ],
      "execution_count": 0,
      "outputs": [
        {
          "output_type": "execute_result",
          "data": {
            "text/plain": [
              "array([[ 0,  1,  2,  3],\n",
              "       [ 4,  5,  6,  7],\n",
              "       [ 8,  9, 10, 11]])"
            ]
          },
          "metadata": {
            "tags": []
          },
          "execution_count": 5
        }
      ]
    },
    {
      "cell_type": "code",
      "metadata": {
        "id": "87GyJKZlUEMW",
        "colab_type": "code",
        "outputId": "214f6368-735f-4b42-b2d3-be004291eca3",
        "colab": {
          "base_uri": "https://localhost:8080/",
          "height": 34
        }
      },
      "source": [
        "arr.ravel() #C"
      ],
      "execution_count": 0,
      "outputs": [
        {
          "output_type": "execute_result",
          "data": {
            "text/plain": [
              "array([ 0,  1,  2,  3,  4,  5,  6,  7,  8,  9, 10, 11])"
            ]
          },
          "metadata": {
            "tags": []
          },
          "execution_count": 6
        }
      ]
    },
    {
      "cell_type": "code",
      "metadata": {
        "id": "T00_UfbTUGhC",
        "colab_type": "code",
        "outputId": "5e4aa076-b78c-4611-d506-f216b75a07cb",
        "colab": {
          "base_uri": "https://localhost:8080/",
          "height": 34
        }
      },
      "source": [
        "arr.ravel('F') #Fortran"
      ],
      "execution_count": 0,
      "outputs": [
        {
          "output_type": "execute_result",
          "data": {
            "text/plain": [
              "array([ 0,  4,  8,  1,  5,  9,  2,  6, 10,  3,  7, 11])"
            ]
          },
          "metadata": {
            "tags": []
          },
          "execution_count": 7
        }
      ]
    },
    {
      "cell_type": "code",
      "metadata": {
        "id": "X04WhbKDUWSL",
        "colab_type": "code",
        "colab": {}
      },
      "source": [
        "#Join arrays\n",
        "arr1 = np.array([[1, 2, 3], [4, 5, 6]])\n",
        "arr2 = np.array([[7, 8, 9], [10, 11, 12]])"
      ],
      "execution_count": 0,
      "outputs": []
    },
    {
      "cell_type": "code",
      "metadata": {
        "id": "O30ZO5vTUa9X",
        "colab_type": "code",
        "outputId": "6e0877b3-7e7d-490d-f566-6cb44dd596e1",
        "colab": {
          "base_uri": "https://localhost:8080/",
          "height": 84
        }
      },
      "source": [
        "np.vstack((arr1,arr2)) #row-wise"
      ],
      "execution_count": 0,
      "outputs": [
        {
          "output_type": "execute_result",
          "data": {
            "text/plain": [
              "array([[ 1,  2,  3],\n",
              "       [ 4,  5,  6],\n",
              "       [ 7,  8,  9],\n",
              "       [10, 11, 12]])"
            ]
          },
          "metadata": {
            "tags": []
          },
          "execution_count": 10
        }
      ]
    },
    {
      "cell_type": "code",
      "metadata": {
        "id": "5t4sO_zpUkAp",
        "colab_type": "code",
        "outputId": "503d90ee-5aae-4779-b206-252479348ad0",
        "colab": {
          "base_uri": "https://localhost:8080/",
          "height": 50
        }
      },
      "source": [
        "np.hstack((arr1,arr2)) #column-wise"
      ],
      "execution_count": 0,
      "outputs": [
        {
          "output_type": "execute_result",
          "data": {
            "text/plain": [
              "array([[ 1,  2,  3,  7,  8,  9],\n",
              "       [ 4,  5,  6, 10, 11, 12]])"
            ]
          },
          "metadata": {
            "tags": []
          },
          "execution_count": 11
        }
      ]
    },
    {
      "cell_type": "code",
      "metadata": {
        "id": "NxIbzBZ1U8eI",
        "colab_type": "code",
        "colab": {}
      },
      "source": [
        "#split\n",
        "arr = np.random.randn(5, 2)\n",
        "first, second, third = np.split(arr, [1, 3])"
      ],
      "execution_count": 0,
      "outputs": []
    },
    {
      "cell_type": "code",
      "metadata": {
        "id": "D4RaDwZbVA_7",
        "colab_type": "code",
        "outputId": "a76e99e8-6513-442b-ae78-5733313cb732",
        "colab": {
          "base_uri": "https://localhost:8080/",
          "height": 134
        }
      },
      "source": [
        "print(first)\n",
        "print()\n",
        "print(second)\n",
        "print()\n",
        "print(third)"
      ],
      "execution_count": 0,
      "outputs": [
        {
          "output_type": "stream",
          "text": [
            "[[0.71703019 2.38387886]]\n",
            "\n",
            "[[ 0.76297523  0.8693183 ]\n",
            " [-2.02039032 -0.39773367]]\n",
            "\n",
            "[[-1.29150494 -2.51780288]\n",
            " [-0.90702813  1.66176387]]\n"
          ],
          "name": "stdout"
        }
      ]
    },
    {
      "cell_type": "code",
      "metadata": {
        "id": "8A3wkhJrWfad",
        "colab_type": "code",
        "colab": {}
      },
      "source": [
        "#Broadcasting describes how arithmetic works between arrays of different shapes: array computation\n",
        "arr = np.random.randn(4, 3)"
      ],
      "execution_count": 0,
      "outputs": []
    },
    {
      "cell_type": "code",
      "metadata": {
        "id": "Vusd_i5yKCaH",
        "colab_type": "code",
        "colab": {}
      },
      "source": [
        "row_means = arr.mean(1)"
      ],
      "execution_count": 0,
      "outputs": []
    },
    {
      "cell_type": "code",
      "metadata": {
        "id": "OWk8PDfmKOld",
        "colab_type": "code",
        "outputId": "5c2a0879-a039-4f54-e7a3-46c1b76ab717",
        "colab": {
          "base_uri": "https://localhost:8080/",
          "height": 84
        }
      },
      "source": [
        "row_means.reshape(4,1)"
      ],
      "execution_count": 0,
      "outputs": [
        {
          "output_type": "execute_result",
          "data": {
            "text/plain": [
              "array([[-1.00229935],\n",
              "       [ 0.16183277],\n",
              "       [-0.85910596],\n",
              "       [-0.13487464]])"
            ]
          },
          "metadata": {
            "tags": []
          },
          "execution_count": 7
        }
      ]
    },
    {
      "cell_type": "code",
      "metadata": {
        "id": "L4GZaiEgKXej",
        "colab_type": "code",
        "outputId": "699f5508-72d9-4bd6-e344-9329ab352bab",
        "colab": {
          "base_uri": "https://localhost:8080/",
          "height": 84
        }
      },
      "source": [
        "arr - arr.mean(1).reshape(4,1) #According to the broadcasting rule, the “broadcast dimensions” must be 1 in the smaller array"
      ],
      "execution_count": 0,
      "outputs": [
        {
          "output_type": "execute_result",
          "data": {
            "text/plain": [
              "array([[ 1.03131944,  0.12648983, -1.15780926],\n",
              "       [ 1.24858241, -0.42148007, -0.82710234],\n",
              "       [ 1.71424557, -0.58470337, -1.1295422 ],\n",
              "       [ 0.21742847,  0.14490567, -0.36233414]])"
            ]
          },
          "metadata": {
            "tags": []
          },
          "execution_count": 9
        }
      ]
    },
    {
      "cell_type": "code",
      "metadata": {
        "id": "xVc5GfR8MLKD",
        "colab_type": "code",
        "outputId": "182fe1dc-b210-4705-e8ee-07c283c7994a",
        "colab": {
          "base_uri": "https://localhost:8080/",
          "height": 84
        }
      },
      "source": [
        "#new-axis\n",
        "arr = np.zeros((4,4))\n",
        "print(arr)"
      ],
      "execution_count": 0,
      "outputs": [
        {
          "output_type": "stream",
          "text": [
            "[[0. 0. 0. 0.]\n",
            " [0. 0. 0. 0.]\n",
            " [0. 0. 0. 0.]\n",
            " [0. 0. 0. 0.]]\n"
          ],
          "name": "stdout"
        }
      ]
    },
    {
      "cell_type": "code",
      "metadata": {
        "id": "Kmtm-rUkOuxY",
        "colab_type": "code",
        "outputId": "ff8f8df5-6611-432f-d055-aaa463247c84",
        "colab": {
          "base_uri": "https://localhost:8080/",
          "height": 34
        }
      },
      "source": [
        "arr_3d = arr[:,np.newaxis,:]\n",
        "arr_3d.shape"
      ],
      "execution_count": 0,
      "outputs": [
        {
          "output_type": "execute_result",
          "data": {
            "text/plain": [
              "(4, 1, 4)"
            ]
          },
          "metadata": {
            "tags": []
          },
          "execution_count": 3
        }
      ]
    },
    {
      "cell_type": "code",
      "metadata": {
        "id": "dilcc7R8O-r1",
        "colab_type": "code",
        "colab": {}
      },
      "source": [
        "arr_1d = np.random.normal(size=3)"
      ],
      "execution_count": 0,
      "outputs": []
    },
    {
      "cell_type": "code",
      "metadata": {
        "id": "8fpoE1Ynb1o4",
        "colab_type": "code",
        "outputId": "450a1de3-18aa-4e94-dc40-80ebd3121941",
        "colab": {
          "base_uri": "https://localhost:8080/",
          "height": 34
        }
      },
      "source": [
        "arr_1d"
      ],
      "execution_count": 0,
      "outputs": [
        {
          "output_type": "execute_result",
          "data": {
            "text/plain": [
              "array([ 0.15558795, -0.9191727 ,  2.01572858])"
            ]
          },
          "metadata": {
            "tags": []
          },
          "execution_count": 5
        }
      ]
    },
    {
      "cell_type": "code",
      "metadata": {
        "id": "nWR0jgLKb4Qd",
        "colab_type": "code",
        "outputId": "ff63fdce-b86b-4ab1-9ac6-5c1b49553860",
        "colab": {
          "base_uri": "https://localhost:8080/",
          "height": 67
        }
      },
      "source": [
        "arr_1d[:,np.newaxis]"
      ],
      "execution_count": 0,
      "outputs": [
        {
          "output_type": "execute_result",
          "data": {
            "text/plain": [
              "array([[ 0.15558795],\n",
              "       [-0.9191727 ],\n",
              "       [ 2.01572858]])"
            ]
          },
          "metadata": {
            "tags": []
          },
          "execution_count": 6
        }
      ]
    },
    {
      "cell_type": "code",
      "metadata": {
        "id": "dZEg_sc_cABl",
        "colab_type": "code",
        "outputId": "cbb6f951-8d93-4c9c-c8c4-f45dfec7d360",
        "colab": {
          "base_uri": "https://localhost:8080/",
          "height": 34
        }
      },
      "source": [
        "arr_1d[np.newaxis,:]"
      ],
      "execution_count": 0,
      "outputs": [
        {
          "output_type": "execute_result",
          "data": {
            "text/plain": [
              "array([[ 0.15558795, -0.9191727 ,  2.01572858]])"
            ]
          },
          "metadata": {
            "tags": []
          },
          "execution_count": 10
        }
      ]
    },
    {
      "cell_type": "code",
      "metadata": {
        "id": "JruRnmggcJvJ",
        "colab_type": "code",
        "outputId": "cd862827-a928-4825-dfc1-802312171fb4",
        "colab": {
          "base_uri": "https://localhost:8080/",
          "height": 34
        }
      },
      "source": [
        "a.shape"
      ],
      "execution_count": 0,
      "outputs": [
        {
          "output_type": "execute_result",
          "data": {
            "text/plain": [
              "(1, 3)"
            ]
          },
          "metadata": {
            "tags": []
          },
          "execution_count": 9
        }
      ]
    },
    {
      "cell_type": "code",
      "metadata": {
        "id": "ZIzWgOc6cTuh",
        "colab_type": "code",
        "colab": {}
      },
      "source": [
        "arr = np.random.rand(3,4,5)"
      ],
      "execution_count": 0,
      "outputs": []
    },
    {
      "cell_type": "code",
      "metadata": {
        "id": "6AvYJHxocy2Y",
        "colab_type": "code",
        "outputId": "c169b7ed-2860-45fd-dde8-4b7b59c4279b",
        "colab": {
          "base_uri": "https://localhost:8080/",
          "height": 252
        }
      },
      "source": [
        "arr"
      ],
      "execution_count": 0,
      "outputs": [
        {
          "output_type": "execute_result",
          "data": {
            "text/plain": [
              "array([[[0.00889111, 0.07443574, 0.28545714, 0.204222  , 0.62939348],\n",
              "        [0.83741527, 0.96499235, 0.79320402, 0.41348214, 0.62249796],\n",
              "        [0.8167271 , 0.68110389, 0.45157582, 0.33774241, 0.45653519],\n",
              "        [0.08436288, 0.914174  , 0.01874728, 0.78137584, 0.95268151]],\n",
              "\n",
              "       [[0.20828376, 0.93762814, 0.35700995, 0.95003566, 0.57761516],\n",
              "        [0.44402525, 0.95252374, 0.40141991, 0.49369371, 0.77532791],\n",
              "        [0.68179918, 0.7408325 , 0.4868319 , 0.99827737, 0.73972207],\n",
              "        [0.94876568, 0.34988311, 0.29954051, 0.09172657, 0.90398873]],\n",
              "\n",
              "       [[0.60903976, 0.89018743, 0.5493616 , 0.73384608, 0.27018522],\n",
              "        [0.71258453, 0.08744883, 0.20598945, 0.27986658, 0.36412102],\n",
              "        [0.37396769, 0.19226105, 0.63539876, 0.47607562, 0.22874327],\n",
              "        [0.5292467 , 0.48929   , 0.41272527, 0.34580795, 0.75434733]]])"
            ]
          },
          "metadata": {
            "tags": []
          },
          "execution_count": 14
        }
      ]
    },
    {
      "cell_type": "code",
      "metadata": {
        "id": "yVw24E3Bcl46",
        "colab_type": "code",
        "colab": {}
      },
      "source": [
        "depth_means = arr.mean(2)"
      ],
      "execution_count": 0,
      "outputs": []
    },
    {
      "cell_type": "code",
      "metadata": {
        "id": "FpaL5tgrcpDQ",
        "colab_type": "code",
        "outputId": "563f31c8-a684-4db9-e602-d43b6f7a1a54",
        "colab": {
          "base_uri": "https://localhost:8080/",
          "height": 67
        }
      },
      "source": [
        "depth_means"
      ],
      "execution_count": 0,
      "outputs": [
        {
          "output_type": "execute_result",
          "data": {
            "text/plain": [
              "array([[0.24047989, 0.72631835, 0.54873688, 0.5502683 ],\n",
              "       [0.60611453, 0.61339811, 0.72949261, 0.51878092],\n",
              "       [0.61052402, 0.33000208, 0.38128928, 0.50628345]])"
            ]
          },
          "metadata": {
            "tags": []
          },
          "execution_count": 13
        }
      ]
    },
    {
      "cell_type": "code",
      "metadata": {
        "id": "D2WBvr3sdL3Y",
        "colab_type": "code",
        "outputId": "2d582044-e7c6-4256-e15b-0db0e928c7dc",
        "colab": {
          "base_uri": "https://localhost:8080/",
          "height": 34
        }
      },
      "source": [
        "((0.00889111 + 0.07443574 + 0.28545714 + 0.204222 + 0.62939348)/5)"
      ],
      "execution_count": 0,
      "outputs": [
        {
          "output_type": "execute_result",
          "data": {
            "text/plain": [
              "0.240479894"
            ]
          },
          "metadata": {
            "tags": []
          },
          "execution_count": 19
        }
      ]
    },
    {
      "cell_type": "code",
      "metadata": {
        "id": "WIs4pgs7d205",
        "colab_type": "code",
        "colab": {}
      },
      "source": [
        "demeanded = arr - depth_means[:,:,np.newaxis]"
      ],
      "execution_count": 0,
      "outputs": []
    },
    {
      "cell_type": "code",
      "metadata": {
        "id": "es1HxDdveMx8",
        "colab_type": "code",
        "outputId": "be65493b-838c-43a0-b406-c711fc40141a",
        "colab": {
          "base_uri": "https://localhost:8080/",
          "height": 118
        }
      },
      "source": [
        "demeanded.mean(2)"
      ],
      "execution_count": 0,
      "outputs": [
        {
          "output_type": "execute_result",
          "data": {
            "text/plain": [
              "array([[-1.11022302e-17, -2.22044605e-17,  4.44089210e-17,\n",
              "        -2.22044605e-17],\n",
              "       [-2.22044605e-17,  0.00000000e+00,  0.00000000e+00,\n",
              "        -6.66133815e-17],\n",
              "       [ 4.44089210e-17, -1.11022302e-17, -2.22044605e-17,\n",
              "         2.22044605e-17]])"
            ]
          },
          "metadata": {
            "tags": []
          },
          "execution_count": 21
        }
      ]
    },
    {
      "cell_type": "code",
      "metadata": {
        "id": "YbVjbdL-ejmd",
        "colab_type": "code",
        "colab": {}
      },
      "source": [
        "#Setting array values by broadcasting\n",
        "arr = np.zeros((4,3))"
      ],
      "execution_count": 0,
      "outputs": []
    },
    {
      "cell_type": "code",
      "metadata": {
        "id": "QLmvxNNJfbcR",
        "colab_type": "code",
        "colab": {}
      },
      "source": [
        "arr[:5] = 5"
      ],
      "execution_count": 0,
      "outputs": []
    },
    {
      "cell_type": "code",
      "metadata": {
        "id": "HspLflc2feun",
        "colab_type": "code",
        "outputId": "6b38fd90-cc2f-449f-a975-06d4f208979e",
        "colab": {
          "base_uri": "https://localhost:8080/",
          "height": 84
        }
      },
      "source": [
        "arr"
      ],
      "execution_count": 0,
      "outputs": [
        {
          "output_type": "execute_result",
          "data": {
            "text/plain": [
              "array([[5., 5., 5.],\n",
              "       [5., 5., 5.],\n",
              "       [5., 5., 5.],\n",
              "       [5., 5., 5.]])"
            ]
          },
          "metadata": {
            "tags": []
          },
          "execution_count": 25
        }
      ]
    },
    {
      "cell_type": "code",
      "metadata": {
        "id": "0W0sMGYMfhvE",
        "colab_type": "code",
        "colab": {}
      },
      "source": [
        "col = np.array([1.28,-0.42,0.44,1.6])"
      ],
      "execution_count": 0,
      "outputs": []
    },
    {
      "cell_type": "code",
      "metadata": {
        "id": "omjFLCTtfqtb",
        "colab_type": "code",
        "outputId": "93cd7935-e417-4741-bcf2-ce5d54fa82c8",
        "colab": {
          "base_uri": "https://localhost:8080/",
          "height": 34
        }
      },
      "source": [
        "col"
      ],
      "execution_count": 0,
      "outputs": [
        {
          "output_type": "execute_result",
          "data": {
            "text/plain": [
              "array([ 1.28, -0.42,  0.44,  1.6 ])"
            ]
          },
          "metadata": {
            "tags": []
          },
          "execution_count": 27
        }
      ]
    },
    {
      "cell_type": "code",
      "metadata": {
        "id": "sYpZMTLHfnwK",
        "colab_type": "code",
        "colab": {}
      },
      "source": [
        "arr[:] = col[:,np.newaxis]"
      ],
      "execution_count": 0,
      "outputs": []
    },
    {
      "cell_type": "code",
      "metadata": {
        "id": "gmX8Evohfw-j",
        "colab_type": "code",
        "outputId": "9ec44411-b7c5-44e4-a998-e8635c375454",
        "colab": {
          "base_uri": "https://localhost:8080/",
          "height": 84
        }
      },
      "source": [
        "arr"
      ],
      "execution_count": 0,
      "outputs": [
        {
          "output_type": "execute_result",
          "data": {
            "text/plain": [
              "array([[ 1.28,  1.28,  1.28],\n",
              "       [-0.42, -0.42, -0.42],\n",
              "       [ 0.44,  0.44,  0.44],\n",
              "       [ 1.6 ,  1.6 ,  1.6 ]])"
            ]
          },
          "metadata": {
            "tags": []
          },
          "execution_count": 29
        }
      ]
    },
    {
      "cell_type": "code",
      "metadata": {
        "id": "StLiFWDsfzTy",
        "colab_type": "code",
        "colab": {}
      },
      "source": [
        "arr[:2] = [[-1.37],[0.509]]"
      ],
      "execution_count": 0,
      "outputs": []
    },
    {
      "cell_type": "code",
      "metadata": {
        "id": "tVw1huNTf682",
        "colab_type": "code",
        "outputId": "5800d86b-1a4c-4e44-b67d-1581def1e784",
        "colab": {
          "base_uri": "https://localhost:8080/",
          "height": 84
        }
      },
      "source": [
        "arr"
      ],
      "execution_count": 0,
      "outputs": [
        {
          "output_type": "execute_result",
          "data": {
            "text/plain": [
              "array([[-1.37 , -1.37 , -1.37 ],\n",
              "       [ 0.509,  0.509,  0.509],\n",
              "       [ 0.44 ,  0.44 ,  0.44 ],\n",
              "       [ 1.6  ,  1.6  ,  1.6  ]])"
            ]
          },
          "metadata": {
            "tags": []
          },
          "execution_count": 31
        }
      ]
    },
    {
      "cell_type": "code",
      "metadata": {
        "id": "dMpfhVLkf9VH",
        "colab_type": "code",
        "colab": {}
      },
      "source": [
        "arr[:3] = [[-1.0],[2.0],[3.0]]"
      ],
      "execution_count": 0,
      "outputs": []
    },
    {
      "cell_type": "code",
      "metadata": {
        "id": "3w3y0pSlgB7L",
        "colab_type": "code",
        "outputId": "6914beff-de3f-47b0-ef15-6a2699c6cdf9",
        "colab": {
          "base_uri": "https://localhost:8080/",
          "height": 84
        }
      },
      "source": [
        "arr"
      ],
      "execution_count": 0,
      "outputs": [
        {
          "output_type": "execute_result",
          "data": {
            "text/plain": [
              "array([[-1. , -1. , -1. ],\n",
              "       [ 2. ,  2. ,  2. ],\n",
              "       [ 3. ,  3. ,  3. ],\n",
              "       [ 1.6,  1.6,  1.6]])"
            ]
          },
          "metadata": {
            "tags": []
          },
          "execution_count": 50
        }
      ]
    },
    {
      "cell_type": "code",
      "metadata": {
        "id": "riixWZCxiKDB",
        "colab_type": "code",
        "colab": {}
      },
      "source": [
        "arr = np.random.randn(5, 5)"
      ],
      "execution_count": 0,
      "outputs": []
    },
    {
      "cell_type": "code",
      "metadata": {
        "id": "gnuaOckjiivD",
        "colab_type": "code",
        "colab": {
          "base_uri": "https://localhost:8080/",
          "height": 101
        },
        "outputId": "c45a36bf-b540-4efc-d03d-03617020e066"
      },
      "source": [
        "arr"
      ],
      "execution_count": 5,
      "outputs": [
        {
          "output_type": "execute_result",
          "data": {
            "text/plain": [
              "array([[ 0.07973916, -0.61833803,  0.27667609,  0.28729297,  0.9046737 ],\n",
              "       [ 1.46698487, -1.15886978,  1.08537401,  0.12264401, -0.09495741],\n",
              "       [-0.70098636,  1.66179734,  1.35256521, -0.09799068,  0.05830313],\n",
              "       [-1.25306648, -0.57066843, -0.32842466, -0.29283101,  0.95801051],\n",
              "       [ 1.10808561, -0.40245617, -0.61767072, -0.64813668,  1.34206747]])"
            ]
          },
          "metadata": {
            "tags": []
          },
          "execution_count": 5
        }
      ]
    },
    {
      "cell_type": "code",
      "metadata": {
        "id": "C9LiQbEQiVi-",
        "colab_type": "code",
        "colab": {
          "base_uri": "https://localhost:8080/",
          "height": 34
        },
        "outputId": "b616f309-e88b-4467-9f58-7f7cfee628cc"
      },
      "source": [
        "arr[::2].sort(1)"
      ],
      "execution_count": 8,
      "outputs": [
        {
          "output_type": "stream",
          "text": [
            "None\n"
          ],
          "name": "stdout"
        }
      ]
    },
    {
      "cell_type": "code",
      "metadata": {
        "id": "0hxhDisWizQd",
        "colab_type": "code",
        "colab": {
          "base_uri": "https://localhost:8080/",
          "height": 101
        },
        "outputId": "0977cadc-1b6f-4726-a257-1a10f36b8855"
      },
      "source": [
        "arr[:,:-1] < arr[:,1:]"
      ],
      "execution_count": 10,
      "outputs": [
        {
          "output_type": "execute_result",
          "data": {
            "text/plain": [
              "array([[ True,  True,  True,  True],\n",
              "       [False,  True, False, False],\n",
              "       [ True,  True,  True,  True],\n",
              "       [ True,  True,  True,  True],\n",
              "       [ True,  True,  True,  True]])"
            ]
          },
          "metadata": {
            "tags": []
          },
          "execution_count": 10
        }
      ]
    },
    {
      "cell_type": "code",
      "metadata": {
        "id": "Qzd5Dx27jK5c",
        "colab_type": "code",
        "colab": {
          "base_uri": "https://localhost:8080/",
          "height": 34
        },
        "outputId": "a4f0c1e0-bd01-410b-cef0-5164157e3222"
      },
      "source": [
        "np.logical_and.reduce(arr[:, :-1] < arr[:, 1:], axis=1)"
      ],
      "execution_count": 11,
      "outputs": [
        {
          "output_type": "execute_result",
          "data": {
            "text/plain": [
              "array([ True, False,  True,  True,  True])"
            ]
          },
          "metadata": {
            "tags": []
          },
          "execution_count": 11
        }
      ]
    },
    {
      "cell_type": "code",
      "metadata": {
        "id": "Pky7HgFZjgg0",
        "colab_type": "code",
        "colab": {
          "base_uri": "https://localhost:8080/",
          "height": 101
        },
        "outputId": "ba480c3d-b0e3-49ba-c74e-2c99d1af1c90"
      },
      "source": [
        "arr"
      ],
      "execution_count": 14,
      "outputs": [
        {
          "output_type": "execute_result",
          "data": {
            "text/plain": [
              "array([[-0.61833803,  0.07973916,  0.27667609,  0.28729297,  0.9046737 ],\n",
              "       [ 1.46698487, -1.15886978,  1.08537401,  0.12264401, -0.09495741],\n",
              "       [-0.70098636, -0.09799068,  0.05830313,  1.35256521,  1.66179734],\n",
              "       [-1.25306648, -0.57066843, -0.32842466, -0.29283101,  0.95801051],\n",
              "       [-0.64813668, -0.61767072, -0.40245617,  1.10808561,  1.34206747]])"
            ]
          },
          "metadata": {
            "tags": []
          },
          "execution_count": 14
        }
      ]
    },
    {
      "cell_type": "code",
      "metadata": {
        "id": "EcFWUsjJjSNx",
        "colab_type": "code",
        "colab": {
          "base_uri": "https://localhost:8080/",
          "height": 101
        },
        "outputId": "40be255a-0f08-4a44-b18f-53ae17a0a3c6"
      },
      "source": [
        "arr[:, :-1] #without last column"
      ],
      "execution_count": 12,
      "outputs": [
        {
          "output_type": "execute_result",
          "data": {
            "text/plain": [
              "array([[-0.61833803,  0.07973916,  0.27667609,  0.28729297],\n",
              "       [ 1.46698487, -1.15886978,  1.08537401,  0.12264401],\n",
              "       [-0.70098636, -0.09799068,  0.05830313,  1.35256521],\n",
              "       [-1.25306648, -0.57066843, -0.32842466, -0.29283101],\n",
              "       [-0.64813668, -0.61767072, -0.40245617,  1.10808561]])"
            ]
          },
          "metadata": {
            "tags": []
          },
          "execution_count": 12
        }
      ]
    },
    {
      "cell_type": "code",
      "metadata": {
        "id": "u9UfGdEnjadw",
        "colab_type": "code",
        "colab": {
          "base_uri": "https://localhost:8080/",
          "height": 101
        },
        "outputId": "d04cee92-ab93-4743-f54d-ec80f330a54f"
      },
      "source": [
        "arr[:, 1:] #without first column"
      ],
      "execution_count": 13,
      "outputs": [
        {
          "output_type": "execute_result",
          "data": {
            "text/plain": [
              "array([[ 0.07973916,  0.27667609,  0.28729297,  0.9046737 ],\n",
              "       [-1.15886978,  1.08537401,  0.12264401, -0.09495741],\n",
              "       [-0.09799068,  0.05830313,  1.35256521,  1.66179734],\n",
              "       [-0.57066843, -0.32842466, -0.29283101,  0.95801051],\n",
              "       [-0.61767072, -0.40245617,  1.10808561,  1.34206747]])"
            ]
          },
          "metadata": {
            "tags": []
          },
          "execution_count": 13
        }
      ]
    },
    {
      "cell_type": "code",
      "metadata": {
        "id": "Oh64ug_ij61T",
        "colab_type": "code",
        "colab": {
          "base_uri": "https://localhost:8080/",
          "height": 67
        },
        "outputId": "921a49aa-e592-4a9a-8163-c4694d182d54"
      },
      "source": [
        "arr = np.arange(15).reshape((3, 5))\n",
        "print(arr)"
      ],
      "execution_count": 16,
      "outputs": [
        {
          "output_type": "stream",
          "text": [
            "[[ 0  1  2  3  4]\n",
            " [ 5  6  7  8  9]\n",
            " [10 11 12 13 14]]\n"
          ],
          "name": "stdout"
        }
      ]
    },
    {
      "cell_type": "code",
      "metadata": {
        "id": "0BI27QDjj9Dg",
        "colab_type": "code",
        "colab": {
          "base_uri": "https://localhost:8080/",
          "height": 67
        },
        "outputId": "37736070-f80c-4548-b2f8-b6cfe5a88a38"
      },
      "source": [
        "np.add.accumulate(arr, axis=1)"
      ],
      "execution_count": 21,
      "outputs": [
        {
          "output_type": "execute_result",
          "data": {
            "text/plain": [
              "array([[ 0,  1,  3,  6, 10],\n",
              "       [ 5, 11, 18, 26, 35],\n",
              "       [10, 21, 33, 46, 60]])"
            ]
          },
          "metadata": {
            "tags": []
          },
          "execution_count": 21
        }
      ]
    },
    {
      "cell_type": "code",
      "metadata": {
        "id": "DFa2LVEcll3e",
        "colab_type": "code",
        "colab": {
          "base_uri": "https://localhost:8080/",
          "height": 34
        },
        "outputId": "e08d8cda-a75c-4391-9fe2-b516c8eb003a"
      },
      "source": [
        "arr = np.arange(3).repeat([1, 2, 2])\n",
        "print(arr)"
      ],
      "execution_count": 23,
      "outputs": [
        {
          "output_type": "stream",
          "text": [
            "[0 1 1 2 2]\n"
          ],
          "name": "stdout"
        }
      ]
    },
    {
      "cell_type": "code",
      "metadata": {
        "id": "jiCJ3TSEmlVX",
        "colab_type": "code",
        "colab": {
          "base_uri": "https://localhost:8080/",
          "height": 34
        },
        "outputId": "dae5f60f-940e-44d1-d421-ff2612df574a"
      },
      "source": [
        "np.arange(5)"
      ],
      "execution_count": 25,
      "outputs": [
        {
          "output_type": "execute_result",
          "data": {
            "text/plain": [
              "array([0, 1, 2, 3, 4])"
            ]
          },
          "metadata": {
            "tags": []
          },
          "execution_count": 25
        }
      ]
    },
    {
      "cell_type": "code",
      "metadata": {
        "id": "c-cOC9Zjlp12",
        "colab_type": "code",
        "colab": {
          "base_uri": "https://localhost:8080/",
          "height": 101
        },
        "outputId": "83abd100-318b-4cc4-dc3d-9c14f20e9631"
      },
      "source": [
        "np.multiply.outer(arr, np.arange(5))"
      ],
      "execution_count": 24,
      "outputs": [
        {
          "output_type": "execute_result",
          "data": {
            "text/plain": [
              "array([[0, 0, 0, 0, 0],\n",
              "       [0, 1, 2, 3, 4],\n",
              "       [0, 1, 2, 3, 4],\n",
              "       [0, 2, 4, 6, 8],\n",
              "       [0, 2, 4, 6, 8]])"
            ]
          },
          "metadata": {
            "tags": []
          },
          "execution_count": 24
        }
      ]
    },
    {
      "cell_type": "code",
      "metadata": {
        "id": "y1loF4GZoL4r",
        "colab_type": "code",
        "colab": {
          "base_uri": "https://localhost:8080/",
          "height": 84
        },
        "outputId": "d0e45e36-e65d-499d-9524-be7cd0d0aa29"
      },
      "source": [
        "x, y = np.random.randn(3, 4), np.random.randn(5)\n",
        "print(x)\n",
        "print(y)"
      ],
      "execution_count": 27,
      "outputs": [
        {
          "output_type": "stream",
          "text": [
            "[[ 0.31623021  0.32716116 -0.68018988 -1.53458237]\n",
            " [-0.04271147 -0.43827717  1.28533245 -0.49427378]\n",
            " [-0.39002926 -0.01848634  0.73601818  0.51103314]]\n",
            "[-1.73943741  1.64876422  0.85022489  1.90222061  2.41372843]\n"
          ],
          "name": "stdout"
        }
      ]
    },
    {
      "cell_type": "code",
      "metadata": {
        "id": "97p3CCTzoTVT",
        "colab_type": "code",
        "colab": {}
      },
      "source": [
        "result = np.subtract.outer(x, y)"
      ],
      "execution_count": 0,
      "outputs": []
    },
    {
      "cell_type": "code",
      "metadata": {
        "id": "KS9Al_smoXpJ",
        "colab_type": "code",
        "colab": {
          "base_uri": "https://localhost:8080/",
          "height": 269
        },
        "outputId": "4fe8fd9f-0c67-4258-a4d6-6acdffafb746"
      },
      "source": [
        "print(result.shape)\n",
        "print(result)"
      ],
      "execution_count": 30,
      "outputs": [
        {
          "output_type": "stream",
          "text": [
            "(3, 4, 5)\n",
            "[[[ 2.05566762 -1.33253401 -0.53399468 -1.5859904  -2.09749822]\n",
            "  [ 2.06659857 -1.32160306 -0.52306372 -1.57505945 -2.08656726]\n",
            "  [ 1.05924753 -2.3289541  -1.53041477 -2.58241049 -3.09391831]\n",
            "  [ 0.20485504 -3.18334659 -2.38480726 -3.43680298 -3.9483108 ]]\n",
            "\n",
            " [[ 1.69672594 -1.69147569 -0.89293635 -1.94493208 -2.45643989]\n",
            "  [ 1.30116024 -2.08704139 -1.28850205 -2.34049778 -2.85200559]\n",
            "  [ 3.02476986 -0.36343178  0.43510756 -0.61688816 -1.12839598]\n",
            "  [ 1.24516363 -2.143038   -1.34449867 -2.39649439 -2.90800221]]\n",
            "\n",
            " [[ 1.34940815 -2.03879349 -1.24025415 -2.29224987 -2.80375769]\n",
            "  [ 1.72095107 -1.66725056 -0.86871122 -1.92070695 -2.43221476]\n",
            "  [ 2.47545559 -0.91274604 -0.11420671 -1.16620243 -1.67771025]\n",
            "  [ 2.25047055 -1.13773108 -0.33919174 -1.39118747 -1.90269529]]]\n"
          ],
          "name": "stdout"
        }
      ]
    },
    {
      "cell_type": "code",
      "metadata": {
        "id": "BZb78wFkoiPd",
        "colab_type": "code",
        "colab": {}
      },
      "source": [
        "arr = np.arange(10)"
      ],
      "execution_count": 0,
      "outputs": []
    },
    {
      "cell_type": "code",
      "metadata": {
        "id": "Nh4FqKuepaLe",
        "colab_type": "code",
        "colab": {
          "base_uri": "https://localhost:8080/",
          "height": 34
        },
        "outputId": "d7ce2aa6-13af-4387-9c76-1e000b357423"
      },
      "source": [
        "np.add.reduceat(arr, [0, 5, 8])"
      ],
      "execution_count": 32,
      "outputs": [
        {
          "output_type": "execute_result",
          "data": {
            "text/plain": [
              "array([10, 18, 17])"
            ]
          },
          "metadata": {
            "tags": []
          },
          "execution_count": 32
        }
      ]
    },
    {
      "cell_type": "code",
      "metadata": {
        "id": "rxgPM6CApcTT",
        "colab_type": "code",
        "colab": {
          "base_uri": "https://localhost:8080/",
          "height": 54
        },
        "outputId": "a97ac3c8-af6d-46b1-f344-e3b6c7682b62"
      },
      "source": [
        "'''\n",
        "reduce(x) Aggregate values by successive applications of the operation\n",
        "accumulate(x) Aggregate values, preserving all partial aggregates\n",
        "reduceat(x, bins) “Local” reduce or “group by”; reduce contiguous slices of data to produce aggregated array\n",
        "outer(x, y) Apply operation to all pairs of elements in x and y; the resulting array has shape x.shape + y.shape\n",
        "'''"
      ],
      "execution_count": 33,
      "outputs": [
        {
          "output_type": "execute_result",
          "data": {
            "text/plain": [
              "'\\nreduce(x) Aggregate values by successive applications of the operation\\naccumulate(x) Aggregate values, preserving all partial aggregates\\nreduceat(x, bins) “Local” reduce or “group by”; reduce contiguous slices of data to produce aggregated array\\nouter(x, y) Apply operation to all pairs of elements in x and y; the resulting array has shape x.shape + y.shape\\n'"
            ]
          },
          "metadata": {
            "tags": []
          },
          "execution_count": 33
        }
      ]
    },
    {
      "cell_type": "code",
      "metadata": {
        "id": "mUhZxYjOpnMo",
        "colab_type": "code",
        "colab": {
          "base_uri": "https://localhost:8080/",
          "height": 67
        },
        "outputId": "6b67a36c-5c8d-4a48-a869-8afbb8e2508a"
      },
      "source": [
        "#sorting\n",
        "arr = np.random.randn(3, 5)\n",
        "print(arr)"
      ],
      "execution_count": 37,
      "outputs": [
        {
          "output_type": "stream",
          "text": [
            "[[ 1.2380359  -0.61002315  0.09024817 -1.18584022  1.25682189]\n",
            " [-0.19142352  0.48826175 -1.8378688  -0.36722853  1.56165704]\n",
            " [-0.61708374 -1.30104883 -0.43625426  0.99521352  1.24693931]]\n"
          ],
          "name": "stdout"
        }
      ]
    },
    {
      "cell_type": "code",
      "metadata": {
        "id": "HXL29ryyuIAf",
        "colab_type": "code",
        "colab": {
          "base_uri": "https://localhost:8080/",
          "height": 67
        },
        "outputId": "d3dda1d7-dd06-436d-8ae2-d248b7e216d5"
      },
      "source": [
        "#by column\n",
        "arr.sort(axis=1)\n",
        "print(arr)"
      ],
      "execution_count": 36,
      "outputs": [
        {
          "output_type": "stream",
          "text": [
            "[[-0.53656666 -0.43521588 -0.04069185  0.19808883  0.28000399]\n",
            " [ 0.1374968   0.48823778  0.50439382  0.63621355  0.85145561]\n",
            " [-1.25495857 -0.78631814 -0.45081529 -0.43031316  0.10414424]]\n"
          ],
          "name": "stdout"
        }
      ]
    },
    {
      "cell_type": "code",
      "metadata": {
        "id": "IWXVz8NEuS3Z",
        "colab_type": "code",
        "colab": {
          "base_uri": "https://localhost:8080/",
          "height": 67
        },
        "outputId": "74749d1f-4566-4993-de00-dc19f2c449c9"
      },
      "source": [
        "#by row\n",
        "arr.sort(axis=0)\n",
        "print(arr)"
      ],
      "execution_count": 39,
      "outputs": [
        {
          "output_type": "stream",
          "text": [
            "[[-0.61708374 -1.30104883 -1.8378688  -1.18584022  1.24693931]\n",
            " [-0.19142352 -0.61002315 -0.43625426 -0.36722853  1.25682189]\n",
            " [ 1.2380359   0.48826175  0.09024817  0.99521352  1.56165704]]\n"
          ],
          "name": "stdout"
        }
      ]
    },
    {
      "cell_type": "code",
      "metadata": {
        "id": "4F0R-5whuidm",
        "colab_type": "code",
        "colab": {
          "base_uri": "https://localhost:8080/",
          "height": 67
        },
        "outputId": "d740f559-5874-49b4-a0e5-f014af269a25"
      },
      "source": [
        "#reverse == descending order\n",
        "arr[:,::-1]"
      ],
      "execution_count": 40,
      "outputs": [
        {
          "output_type": "execute_result",
          "data": {
            "text/plain": [
              "array([[ 1.24693931, -1.18584022, -1.8378688 , -1.30104883, -0.61708374],\n",
              "       [ 1.25682189, -0.36722853, -0.43625426, -0.61002315, -0.19142352],\n",
              "       [ 1.56165704,  0.99521352,  0.09024817,  0.48826175,  1.2380359 ]])"
            ]
          },
          "metadata": {
            "tags": []
          },
          "execution_count": 40
        }
      ]
    },
    {
      "cell_type": "code",
      "metadata": {
        "id": "ydSaVC3VuyDn",
        "colab_type": "code",
        "colab": {}
      },
      "source": [
        "#index\n",
        "values = np.array([5, 0, 1, 3, 2])\n",
        "indexer = values.argsort()"
      ],
      "execution_count": 0,
      "outputs": []
    },
    {
      "cell_type": "code",
      "metadata": {
        "id": "4KgXpFY1vtvX",
        "colab_type": "code",
        "colab": {
          "base_uri": "https://localhost:8080/",
          "height": 34
        },
        "outputId": "f5f7bb95-c24e-44c7-ef9b-870572fbd132"
      },
      "source": [
        "indexer"
      ],
      "execution_count": 42,
      "outputs": [
        {
          "output_type": "execute_result",
          "data": {
            "text/plain": [
              "array([1, 2, 4, 3, 0])"
            ]
          },
          "metadata": {
            "tags": []
          },
          "execution_count": 42
        }
      ]
    },
    {
      "cell_type": "code",
      "metadata": {
        "id": "6lFjnGFXvwfe",
        "colab_type": "code",
        "colab": {
          "base_uri": "https://localhost:8080/",
          "height": 34
        },
        "outputId": "bee65045-3217-4b87-e121-e1f43944b2d6"
      },
      "source": [
        "values[indexer]"
      ],
      "execution_count": 43,
      "outputs": [
        {
          "output_type": "execute_result",
          "data": {
            "text/plain": [
              "array([0, 1, 2, 3, 5])"
            ]
          },
          "metadata": {
            "tags": []
          },
          "execution_count": 43
        }
      ]
    },
    {
      "cell_type": "code",
      "metadata": {
        "id": "ogBPLiYKwOCp",
        "colab_type": "code",
        "colab": {}
      },
      "source": [
        "arr = np.random.randn(3, 5)"
      ],
      "execution_count": 0,
      "outputs": []
    },
    {
      "cell_type": "code",
      "metadata": {
        "id": "gCr6602swRMj",
        "colab_type": "code",
        "colab": {}
      },
      "source": [
        "arr[0] = values"
      ],
      "execution_count": 0,
      "outputs": []
    },
    {
      "cell_type": "code",
      "metadata": {
        "id": "cee-jdS6wU7K",
        "colab_type": "code",
        "colab": {
          "base_uri": "https://localhost:8080/",
          "height": 67
        },
        "outputId": "e134f4b7-6c9c-4d2b-c9a7-4daca70c5b01"
      },
      "source": [
        "arr"
      ],
      "execution_count": 47,
      "outputs": [
        {
          "output_type": "execute_result",
          "data": {
            "text/plain": [
              "array([[ 5.        ,  0.        ,  1.        ,  3.        ,  2.        ],\n",
              "       [ 0.54717499, -0.20714246, -0.54603929,  0.9896077 , -1.04401928],\n",
              "       [ 1.8847097 , -0.71023186,  0.74293582,  0.87913725, -1.27089399]])"
            ]
          },
          "metadata": {
            "tags": []
          },
          "execution_count": 47
        }
      ]
    },
    {
      "cell_type": "code",
      "metadata": {
        "id": "aYUR0ACDwW1c",
        "colab_type": "code",
        "colab": {
          "base_uri": "https://localhost:8080/",
          "height": 67
        },
        "outputId": "b54de315-81ff-4fb6-f8ad-52bffa1f46ba"
      },
      "source": [
        "arr[:,arr[0].argsort()]"
      ],
      "execution_count": 48,
      "outputs": [
        {
          "output_type": "execute_result",
          "data": {
            "text/plain": [
              "array([[ 0.        ,  1.        ,  2.        ,  3.        ,  5.        ],\n",
              "       [-0.20714246, -0.54603929, -1.04401928,  0.9896077 ,  0.54717499],\n",
              "       [-0.71023186,  0.74293582, -1.27089399,  0.87913725,  1.8847097 ]])"
            ]
          },
          "metadata": {
            "tags": []
          },
          "execution_count": 48
        }
      ]
    },
    {
      "cell_type": "code",
      "metadata": {
        "id": "3i7EYNPmwhxc",
        "colab_type": "code",
        "colab": {}
      },
      "source": [
        "#character sort: lexsort()\n",
        "first_name = np.array(['Bob', 'Jane', 'Steve', 'Bill', 'Barbara'])\n",
        "last_name = np.array(['Jones', 'Arnold', 'Arnold', 'Jones', 'Walters'])"
      ],
      "execution_count": 0,
      "outputs": []
    },
    {
      "cell_type": "code",
      "metadata": {
        "id": "dT4SVXufwskS",
        "colab_type": "code",
        "colab": {}
      },
      "source": [
        "sorter = np.lexsort((first_name, last_name))"
      ],
      "execution_count": 0,
      "outputs": []
    },
    {
      "cell_type": "code",
      "metadata": {
        "id": "eNS7VvfBxEYH",
        "colab_type": "code",
        "colab": {
          "base_uri": "https://localhost:8080/",
          "height": 34
        },
        "outputId": "67f3cd6a-d2a2-4690-b330-1b783f9282e6"
      },
      "source": [
        "print(sorter)"
      ],
      "execution_count": 52,
      "outputs": [
        {
          "output_type": "stream",
          "text": [
            "[1 2 3 0 4]\n"
          ],
          "name": "stdout"
        }
      ]
    },
    {
      "cell_type": "code",
      "metadata": {
        "id": "iZFab-JIwyjz",
        "colab_type": "code",
        "colab": {
          "base_uri": "https://localhost:8080/",
          "height": 34
        },
        "outputId": "e140e471-3c67-4367-af27-5b6a1fdf169f"
      },
      "source": [
        "zip(last_name[sorter], first_name[sorter])"
      ],
      "execution_count": 55,
      "outputs": [
        {
          "output_type": "execute_result",
          "data": {
            "text/plain": [
              "<zip at 0x7fc6b1ca5bc8>"
            ]
          },
          "metadata": {
            "tags": []
          },
          "execution_count": 55
        }
      ]
    },
    {
      "cell_type": "code",
      "metadata": {
        "id": "fyvkvEDMzKpB",
        "colab_type": "code",
        "colab": {}
      },
      "source": [
        "#sort!\n",
        "values = np.array(['2:first','2:second','1:first','1:second','1:third'])\n",
        "key = np.array([2,2,1,1,1])"
      ],
      "execution_count": 0,
      "outputs": []
    },
    {
      "cell_type": "code",
      "metadata": {
        "id": "2_pJLwd_zdXj",
        "colab_type": "code",
        "colab": {
          "base_uri": "https://localhost:8080/",
          "height": 34
        },
        "outputId": "a171f210-5f30-41dc-d68e-5760614d020b"
      },
      "source": [
        "indexer = key.argsort(kind = 'mergesort') #the only stable sort\n",
        "print(indexer)"
      ],
      "execution_count": 57,
      "outputs": [
        {
          "output_type": "stream",
          "text": [
            "[2 3 4 0 1]\n"
          ],
          "name": "stdout"
        }
      ]
    },
    {
      "cell_type": "code",
      "metadata": {
        "id": "jKZ3l8y6zpd8",
        "colab_type": "code",
        "colab": {
          "base_uri": "https://localhost:8080/",
          "height": 50
        },
        "outputId": "dc6b78e0-d2b5-4de9-e1b2-8089cdb4c56b"
      },
      "source": [
        "values.take(indexer)"
      ],
      "execution_count": 58,
      "outputs": [
        {
          "output_type": "execute_result",
          "data": {
            "text/plain": [
              "array(['1:first', '1:second', '1:third', '2:first', '2:second'],\n",
              "      dtype='<U8')"
            ]
          },
          "metadata": {
            "tags": []
          },
          "execution_count": 58
        }
      ]
    },
    {
      "cell_type": "code",
      "metadata": {
        "id": "bDws_K2Azy0H",
        "colab_type": "code",
        "colab": {
          "base_uri": "https://localhost:8080/",
          "height": 34
        },
        "outputId": "22d0b6c9-acf4-4d01-935f-772b81065956"
      },
      "source": [
        "indexer.shape"
      ],
      "execution_count": 61,
      "outputs": [
        {
          "output_type": "execute_result",
          "data": {
            "text/plain": [
              "(5,)"
            ]
          },
          "metadata": {
            "tags": []
          },
          "execution_count": 61
        }
      ]
    }
  ]
}