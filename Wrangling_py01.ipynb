{
  "nbformat": 4,
  "nbformat_minor": 0,
  "metadata": {
    "colab": {
      "name": "Wrangling_py01.ipynb",
      "provenance": [],
      "collapsed_sections": []
    },
    "kernelspec": {
      "name": "python3",
      "display_name": "Python 3"
    },
    "accelerator": "GPU"
  },
  "cells": [
    {
      "cell_type": "markdown",
      "metadata": {
        "id": "RkSJxS6dvI3l",
        "colab_type": "text"
      },
      "source": [
        "Bubble sort recap\n"
      ]
    },
    {
      "cell_type": "code",
      "metadata": {
        "id": "M-dTLHz8thOJ",
        "colab_type": "code",
        "outputId": "bc358770-c355-4867-c6e9-e2c94fdefc93",
        "colab": {
          "base_uri": "https://localhost:8080/",
          "height": 118
        }
      },
      "source": [
        "list = [5,8,10,-1,-10,100,50,90,45,64,7,\\\n",
        "        9,-20,-10,-1,0,255,500,-300,-256]\n",
        "\n",
        "def MyBubble(list_data):\n",
        "    cnt = len(list)\n",
        "    if cnt < 2:\n",
        "        return -1\n",
        "    else:\n",
        "        print(\"*length of list: %d\" %cnt)\n",
        "    for i in range(cnt,-1,-1):\n",
        "        for j in range(0,i-1):\n",
        "            if list_data[j] > list_data[j+1]:\n",
        "              list_data[j+1],list_data[j] = list_data[j],list_data[j+1] # it works for python!\n",
        "    return 0\n",
        "\n",
        "MyList = [5,8,10,-1,-10,100,50,90,45,64,7,9,-20,-10,-1,0,255,500,-300,-256]\n",
        "\n",
        "print(\"MyList\")\n",
        "print(MyList)\n",
        "print(\"\\nLet us bubble sort it\")\n",
        "MyBubble(MyList)\n",
        "print(MyList)"
      ],
      "execution_count": 0,
      "outputs": [
        {
          "output_type": "stream",
          "text": [
            "MyList\n",
            "[5, 8, 10, -1, -10, 100, 50, 90, 45, 64, 7, 9, -20, -10, -1, 0, 255, 500, -300, -256]\n",
            "\n",
            "Let us bubble sort it\n",
            "*length of list: 20\n",
            "[-300, -256, -20, -10, -10, -1, -1, 0, 5, 7, 8, 9, 10, 45, 50, 64, 90, 100, 255, 500]\n"
          ],
          "name": "stdout"
        }
      ]
    },
    {
      "cell_type": "code",
      "metadata": {
        "id": "1PnWLIGT0fKn",
        "colab_type": "code",
        "outputId": "6b4cd584-ff44-49b5-9d25-5521dcb15446",
        "colab": {
          "base_uri": "https://localhost:8080/",
          "height": 34
        }
      },
      "source": [
        "#Creating dicts from sequences\n",
        "#mapping = {}\n",
        "#for key, value in zip(key_list,value_list):\n",
        "#  mapping[key] = value\n",
        "# a collection of 2-tuples => dict\n",
        "mapping = dict(zip(range(5),reversed(range(5))))\n",
        "mapping"
      ],
      "execution_count": 0,
      "outputs": [
        {
          "output_type": "execute_result",
          "data": {
            "text/plain": [
              "{0: 4, 1: 3, 2: 2, 3: 1, 4: 0}"
            ]
          },
          "metadata": {
            "tags": []
          },
          "execution_count": 4
        }
      ]
    },
    {
      "cell_type": "markdown",
      "metadata": {
        "id": "fLmJq7na1UWA",
        "colab_type": "text"
      },
      "source": [
        "Default values <br>\n",
        "if key in some_dict: <br>\n",
        "&nbsp;&nbsp;&nbsp;&nbsp; value = some_dic[key]<br>\n",
        "else: <br>\n",
        "&nbsp;&nbsp;&nbsp;&nbsp;value = default_value <br>"
      ]
    },
    {
      "cell_type": "code",
      "metadata": {
        "id": "8Pd1nnN71hVv",
        "colab_type": "code",
        "outputId": "317717fa-cafe-4c6f-a807-8b152c52719f",
        "colab": {
          "base_uri": "https://localhost:8080/",
          "height": 34
        }
      },
      "source": [
        "#categorized the first letters\n",
        "words = ['apple', 'bat', 'bar', 'atom', 'book']\n",
        "by_letter = {}\n",
        "\n",
        "for word in words:\n",
        "    letter = word[0]\n",
        "    if letter not in by_letter:\n",
        "      by_letter[letter] = [word]\n",
        "    else:\n",
        "      by_letter[letter].append(word)\n",
        "\n",
        "by_letter"
      ],
      "execution_count": 0,
      "outputs": [
        {
          "output_type": "execute_result",
          "data": {
            "text/plain": [
              "{'a': ['apple', 'atom'], 'b': ['bat', 'bar', 'book']}"
            ]
          },
          "metadata": {
            "tags": []
          },
          "execution_count": 6
        }
      ]
    },
    {
      "cell_type": "code",
      "metadata": {
        "id": "AwJv6kOu3W1y",
        "colab_type": "code",
        "outputId": "7b757267-1d2f-41d6-f64b-ea0d7e5943ac",
        "colab": {
          "base_uri": "https://localhost:8080/",
          "height": 229
        }
      },
      "source": [
        "#hashability\n",
        "print(hash('string'))\n",
        "print(hash((1,2,(2,3))))\n",
        "print(hash(1,2,[2,3])) #Nope, coz of lists(they are mutable)"
      ],
      "execution_count": 0,
      "outputs": [
        {
          "output_type": "stream",
          "text": [
            "618580695967438963\n",
            "1097636502276347782\n"
          ],
          "name": "stdout"
        },
        {
          "output_type": "error",
          "ename": "TypeError",
          "evalue": "ignored",
          "traceback": [
            "\u001b[0;31m---------------------------------------------------------------------------\u001b[0m",
            "\u001b[0;31mTypeError\u001b[0m                                 Traceback (most recent call last)",
            "\u001b[0;32m<ipython-input-9-773120ba8333>\u001b[0m in \u001b[0;36m<module>\u001b[0;34m()\u001b[0m\n\u001b[1;32m      1\u001b[0m \u001b[0mprint\u001b[0m\u001b[0;34m(\u001b[0m\u001b[0mhash\u001b[0m\u001b[0;34m(\u001b[0m\u001b[0;34m'string'\u001b[0m\u001b[0;34m)\u001b[0m\u001b[0;34m)\u001b[0m\u001b[0;34m\u001b[0m\u001b[0;34m\u001b[0m\u001b[0m\n\u001b[1;32m      2\u001b[0m \u001b[0mprint\u001b[0m\u001b[0;34m(\u001b[0m\u001b[0mhash\u001b[0m\u001b[0;34m(\u001b[0m\u001b[0;34m(\u001b[0m\u001b[0;36m1\u001b[0m\u001b[0;34m,\u001b[0m\u001b[0;36m2\u001b[0m\u001b[0;34m,\u001b[0m\u001b[0;34m(\u001b[0m\u001b[0;36m2\u001b[0m\u001b[0;34m,\u001b[0m\u001b[0;36m3\u001b[0m\u001b[0;34m)\u001b[0m\u001b[0;34m)\u001b[0m\u001b[0;34m)\u001b[0m\u001b[0;34m)\u001b[0m\u001b[0;34m\u001b[0m\u001b[0;34m\u001b[0m\u001b[0m\n\u001b[0;32m----> 3\u001b[0;31m \u001b[0mprint\u001b[0m\u001b[0;34m(\u001b[0m\u001b[0mhash\u001b[0m\u001b[0;34m(\u001b[0m\u001b[0;36m1\u001b[0m\u001b[0;34m,\u001b[0m\u001b[0;36m2\u001b[0m\u001b[0;34m,\u001b[0m\u001b[0;34m[\u001b[0m\u001b[0;36m2\u001b[0m\u001b[0;34m,\u001b[0m\u001b[0;36m3\u001b[0m\u001b[0;34m]\u001b[0m\u001b[0;34m)\u001b[0m\u001b[0;34m)\u001b[0m \u001b[0;31m#Nope, coz of lists(they are mutable)\u001b[0m\u001b[0;34m\u001b[0m\u001b[0;34m\u001b[0m\u001b[0m\n\u001b[0m",
            "\u001b[0;31mTypeError\u001b[0m: hash() takes exactly one argument (3 given)"
          ]
        }
      ]
    },
    {
      "cell_type": "code",
      "metadata": {
        "id": "0dFYcWUx47t8",
        "colab_type": "code",
        "outputId": "875bded3-a223-4b10-d440-187eedae7635",
        "colab": {
          "base_uri": "https://localhost:8080/",
          "height": 50
        }
      },
      "source": [
        "#set is like a dict but keys only\n",
        "print(set([2,2,2,1,3,3,]))\n",
        "#or\n",
        "print({2,2,2,1,2,3,3,4,4,3,3})"
      ],
      "execution_count": 0,
      "outputs": [
        {
          "output_type": "stream",
          "text": [
            "{1, 2, 3}\n",
            "{1, 2, 3, 4}\n"
          ],
          "name": "stdout"
        }
      ]
    },
    {
      "cell_type": "code",
      "metadata": {
        "id": "RODIdB4V5Pil",
        "colab_type": "code",
        "colab": {}
      },
      "source": [
        "a = {1, 2, 3, 4, 5}\n",
        "b = {3, 4, 5, 6, 7, 8}"
      ],
      "execution_count": 0,
      "outputs": []
    },
    {
      "cell_type": "code",
      "metadata": {
        "id": "E-D1Hn2M5bG3",
        "colab_type": "code",
        "outputId": "384a74b1-126f-4f83-a74f-73c4ec79b041",
        "colab": {
          "base_uri": "https://localhost:8080/",
          "height": 34
        }
      },
      "source": [
        "#union\n",
        "a.union(b) # or a | b"
      ],
      "execution_count": 0,
      "outputs": [
        {
          "output_type": "execute_result",
          "data": {
            "text/plain": [
              "{1, 2, 3, 4, 5, 6, 7, 8}"
            ]
          },
          "metadata": {
            "tags": []
          },
          "execution_count": 16
        }
      ]
    },
    {
      "cell_type": "code",
      "metadata": {
        "id": "j3UqGRwJ5dG4",
        "colab_type": "code",
        "outputId": "49ad6897-7948-4f9d-8d11-2faabde58f85",
        "colab": {
          "base_uri": "https://localhost:8080/",
          "height": 34
        }
      },
      "source": [
        "#intersection\n",
        "a.intersection(b) # or a & b"
      ],
      "execution_count": 0,
      "outputs": [
        {
          "output_type": "execute_result",
          "data": {
            "text/plain": [
              "{3, 4, 5}"
            ]
          },
          "metadata": {
            "tags": []
          },
          "execution_count": 17
        }
      ]
    },
    {
      "cell_type": "code",
      "metadata": {
        "id": "YmzytJVT5_Xl",
        "colab_type": "code",
        "outputId": "23173c22-4202-4ff2-b9b2-2cef6fc2c86e",
        "colab": {
          "base_uri": "https://localhost:8080/",
          "height": 34
        }
      },
      "source": [
        "#List, set, and dict comprehensions\n",
        "#[expr for val in collection if condition]\n",
        "#result = []\n",
        "#for val in collection:\n",
        "#  if condition:\n",
        "#    result.append(expr)\n",
        "\n",
        "strings = ['a', 'as', 'bat', 'car', 'dove', 'python']\n",
        "[x.upper() for x in strings if len(x) > 2]"
      ],
      "execution_count": 0,
      "outputs": [
        {
          "output_type": "execute_result",
          "data": {
            "text/plain": [
              "['BAT', 'CAR', 'DOVE', 'PYTHON']"
            ]
          },
          "metadata": {
            "tags": []
          },
          "execution_count": 19
        }
      ]
    },
    {
      "cell_type": "code",
      "metadata": {
        "id": "TM-4Bktx7QWG",
        "colab_type": "code",
        "outputId": "ca4aa78f-df8c-4601-9212-5265973f4399",
        "colab": {
          "base_uri": "https://localhost:8080/",
          "height": 34
        }
      },
      "source": [
        "unique_lengths = {len(x) for x in strings}\n",
        "unique_lengths\n",
        "set(map(len,strings))"
      ],
      "execution_count": 0,
      "outputs": [
        {
          "output_type": "execute_result",
          "data": {
            "text/plain": [
              "{1, 2, 3, 4, 6}"
            ]
          },
          "metadata": {
            "tags": []
          },
          "execution_count": 22
        }
      ]
    },
    {
      "cell_type": "code",
      "metadata": {
        "id": "fbVPWqho7Zfc",
        "colab_type": "code",
        "outputId": "c4570d3e-013d-4fe8-bd9f-3ab0b0e2b3fe",
        "colab": {
          "base_uri": "https://localhost:8080/",
          "height": 34
        }
      },
      "source": [
        "loc_mapping = {val:index for index, val in enumerate(strings)}\n",
        "loc_mapping"
      ],
      "execution_count": 0,
      "outputs": [
        {
          "output_type": "execute_result",
          "data": {
            "text/plain": [
              "{'a': 0, 'as': 1, 'bat': 2, 'car': 3, 'dove': 4, 'python': 5}"
            ]
          },
          "metadata": {
            "tags": []
          },
          "execution_count": 24
        }
      ]
    },
    {
      "cell_type": "code",
      "metadata": {
        "id": "h_7dRQs177J0",
        "colab_type": "code",
        "colab": {}
      },
      "source": [
        "all_data = [['John', 'Emily', 'Michael', 'Mary', 'Steven'],\n",
        "            ['Maria', 'Juan', 'Javier', 'Natalia', 'Pilar']]"
      ],
      "execution_count": 0,
      "outputs": []
    },
    {
      "cell_type": "code",
      "metadata": {
        "id": "_3iCOF5E89YC",
        "colab_type": "code",
        "outputId": "e4b7e074-a6df-47f0-9c1a-8eee46efa1ed",
        "colab": {
          "base_uri": "https://localhost:8080/",
          "height": 34
        }
      },
      "source": [
        "#nested list comprehensions\n",
        "#where is two or more 'e'?\n",
        "names_of_interest = []\n",
        "for names in all_data:\n",
        "  enough_es = [name for name in names if name.count('e')>=2]\n",
        "  names_of_interest.extend(enough_es)\n",
        "\n",
        "names_of_interest"
      ],
      "execution_count": 0,
      "outputs": [
        {
          "output_type": "execute_result",
          "data": {
            "text/plain": [
              "['Steven']"
            ]
          },
          "metadata": {
            "tags": []
          },
          "execution_count": 27
        }
      ]
    },
    {
      "cell_type": "code",
      "metadata": {
        "id": "8tEXgmXY9Ytf",
        "colab_type": "code",
        "outputId": "3f0e0240-8ef6-43cd-b10a-0d13607bb328",
        "colab": {
          "base_uri": "https://localhost:8080/",
          "height": 34
        }
      },
      "source": [
        "result = [name for names in all_data for name in names if name.count('e')>=2]\n",
        "result"
      ],
      "execution_count": 0,
      "outputs": [
        {
          "output_type": "execute_result",
          "data": {
            "text/plain": [
              "['Steven']"
            ]
          },
          "metadata": {
            "tags": []
          },
          "execution_count": 28
        }
      ]
    },
    {
      "cell_type": "code",
      "metadata": {
        "id": "TE9UIuFJ94TS",
        "colab_type": "code",
        "outputId": "9a8cf2be-8953-475f-ec46-a30fa0ebde8f",
        "colab": {
          "base_uri": "https://localhost:8080/",
          "height": 34
        }
      },
      "source": [
        "some_tuples = [(1, 2, 3), (4, 5, 6), (7, 8, 9)]\n",
        "flattened = [x for tup in some_tuples for x in tup]\n",
        "flattened\n",
        "\n",
        "#same as \n",
        "#flattended = []\n",
        "#for tup in some_tuples:\n",
        "#     for x in tup:\n",
        "#         flattended.append(x)"
      ],
      "execution_count": 0,
      "outputs": [
        {
          "output_type": "execute_result",
          "data": {
            "text/plain": [
              "[1, 2, 3, 4, 5, 6, 7, 8, 9]"
            ]
          },
          "metadata": {
            "tags": []
          },
          "execution_count": 29
        }
      ]
    },
    {
      "cell_type": "code",
      "metadata": {
        "id": "YzyASkZtAD3n",
        "colab_type": "code",
        "colab": {}
      },
      "source": [
        "states = [' Alabama ', 'Georgia!', 'Georgia', 'georgia', 'FlOrIda',\n",
        "     'south carolina##', 'West virginia?']"
      ],
      "execution_count": 0,
      "outputs": []
    },
    {
      "cell_type": "code",
      "metadata": {
        "id": "FrkVE2qiIWZz",
        "colab_type": "code",
        "colab": {
          "base_uri": "https://localhost:8080/",
          "height": 134
        },
        "outputId": "60255cdb-b583-412d-a260-5ff61174805f"
      },
      "source": [
        "import re\n",
        "#version 01\n",
        "clean_strings(strings):\n",
        "  result=[]\n",
        "  for value in strings:\n",
        "    value = value.strip()\n",
        "    value = re.sub('[!#?]','',value)\n",
        "    value = value.title()\n",
        "    result.append(value)\n",
        "  return result\n",
        "clean_strings(states)"
      ],
      "execution_count": 7,
      "outputs": [
        {
          "output_type": "execute_result",
          "data": {
            "text/plain": [
              "['Alabama',\n",
              " 'Georgia',\n",
              " 'Georgia',\n",
              " 'Georgia',\n",
              " 'Florida',\n",
              " 'South Carolina',\n",
              " 'West Virginia']"
            ]
          },
          "metadata": {
            "tags": []
          },
          "execution_count": 7
        }
      ]
    },
    {
      "cell_type": "code",
      "metadata": {
        "id": "fsQPmTDNJB8p",
        "colab_type": "code",
        "colab": {
          "base_uri": "https://localhost:8080/",
          "height": 134
        },
        "outputId": "00f36071-9799-46db-dc89-1c16ae660aa6"
      },
      "source": [
        "#version 02\n",
        "def remove_punctuation(value):\n",
        "  return re.sub(\"[!#?]\",'',value)\n",
        "\n",
        "clean_ops = [str.strip,remove_punctuation,str.title]\n",
        "\n",
        "def clean_strings(strings,ops):\n",
        "  result=[]\n",
        "  for value in strings:\n",
        "    for function in ops:\n",
        "      value = function(value)\n",
        "    result.append(value)\n",
        "  return result\n",
        "\n",
        "clean_strings(states, clean_ops)"
      ],
      "execution_count": 8,
      "outputs": [
        {
          "output_type": "execute_result",
          "data": {
            "text/plain": [
              "['Alabama',\n",
              " 'Georgia',\n",
              " 'Georgia',\n",
              " 'Georgia',\n",
              " 'Florida',\n",
              " 'South Carolina',\n",
              " 'West Virginia']"
            ]
          },
          "metadata": {
            "tags": []
          },
          "execution_count": 8
        }
      ]
    }
  ]
}