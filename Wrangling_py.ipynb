{
  "nbformat": 4,
  "nbformat_minor": 0,
  "metadata": {
    "colab": {
      "name": "Wrangling_py.ipynb",
      "provenance": [],
      "collapsed_sections": []
    },
    "kernelspec": {
      "name": "python3",
      "display_name": "Python 3"
    },
    "accelerator": "GPU"
  },
  "cells": [
    {
      "cell_type": "code",
      "metadata": {
        "id": "1QsApKWZLrnM",
        "colab_type": "code",
        "colab": {}
      },
      "source": [
        "#enumerate\n",
        "some_list= {'foo','bar','baz'}\n",
        "\n",
        "mapping = {}\n",
        "\n",
        "for i, v in enumerate(some_list):\n",
        "  mapping[v] = i"
      ],
      "execution_count": 0,
      "outputs": []
    },
    {
      "cell_type": "code",
      "metadata": {
        "id": "XxqN8kiCNKOV",
        "colab_type": "code",
        "outputId": "27f90f82-80db-4d09-cf85-ccff04fbc0c2",
        "colab": {
          "base_uri": "https://localhost:8080/",
          "height": 34
        }
      },
      "source": [
        "mapping"
      ],
      "execution_count": 0,
      "outputs": [
        {
          "output_type": "execute_result",
          "data": {
            "text/plain": [
              "{'bar': 2, 'baz': 0, 'foo': 1}"
            ]
          },
          "metadata": {
            "tags": []
          },
          "execution_count": 2
        }
      ]
    },
    {
      "cell_type": "code",
      "metadata": {
        "id": "Cemopam-NqX2",
        "colab_type": "code",
        "outputId": "c35ba4e7-2c66-4ea7-f973-bc8782f1af6a",
        "colab": {
          "base_uri": "https://localhost:8080/",
          "height": 84
        }
      },
      "source": [
        "#sorted\n",
        "\n",
        "print(sorted([7,1,2,6,0,3,2]))\n",
        "print(sorted('horse race'))\n",
        "\n",
        "#zip: pairs up the elements of a # of lists, tuples, or other >> tuples\n",
        "\n",
        "seq1 = ['foo', 'bar', 'baz']\n",
        "seq2 = ['one','two','three']\n",
        "zipped = zip(seq1, seq2)\n",
        "print(list(zipped))\n",
        "\n",
        "#zip can make the shortest seq\n",
        "\n",
        "seq3 = [False, True]\n",
        "print(list(zip(seq1,seq2,seq3)))"
      ],
      "execution_count": 0,
      "outputs": [
        {
          "output_type": "stream",
          "text": [
            "[0, 1, 2, 2, 3, 6, 7]\n",
            "[' ', 'a', 'c', 'e', 'e', 'h', 'o', 'r', 'r', 's']\n",
            "[('foo', 'one'), ('bar', 'two'), ('baz', 'three')]\n",
            "[('foo', 'one', False), ('bar', 'two', True)]\n"
          ],
          "name": "stdout"
        }
      ]
    },
    {
      "cell_type": "code",
      "metadata": {
        "id": "78RKK7DtPeP0",
        "colab_type": "code",
        "outputId": "77e0aa2a-63f0-4368-e3ab-7fff39a14109",
        "colab": {
          "base_uri": "https://localhost:8080/",
          "height": 67
        }
      },
      "source": [
        "#common use of zip: iterating over multiple seqs\n",
        "\n",
        "for i, (a,b) in enumerate(zip(seq1, seq2)):\n",
        "  print('{0},{1},{2}'.format(i,a,b))"
      ],
      "execution_count": 0,
      "outputs": [
        {
          "output_type": "stream",
          "text": [
            "0,foo,one\n",
            "1,bar,two\n",
            "2,baz,three\n"
          ],
          "name": "stdout"
        }
      ]
    },
    {
      "cell_type": "code",
      "metadata": {
        "id": "8b-ZkrUjTYlr",
        "colab_type": "code",
        "colab": {}
      },
      "source": [
        "#Unzipping (row -> col)\n",
        "\n",
        "pitchers = [('Nolan','Ryan','Ray'),\n",
        "            ('Roger','Clemens','Jim'),\n",
        "            ('Sch','cur','Orilely')\n",
        "            ]\n",
        "\n",
        "First_Names, Middle_Names, Last_Names = zip(*pitchers)\n"
      ],
      "execution_count": 0,
      "outputs": []
    },
    {
      "cell_type": "code",
      "metadata": {
        "id": "0TfRnlRhUQ2G",
        "colab_type": "code",
        "outputId": "7ac505cc-6e34-406f-b962-f90e7b51ba58",
        "colab": {
          "base_uri": "https://localhost:8080/",
          "height": 67
        }
      },
      "source": [
        "print(First_Names)\n",
        "print(Middle_Names)\n",
        "print(Last_Names)"
      ],
      "execution_count": 0,
      "outputs": [
        {
          "output_type": "stream",
          "text": [
            "('Nolan', 'Roger', 'Sch')\n",
            "('Ryan', 'Clemens', 'cur')\n",
            "('Ray', 'Jim', 'Orilely')\n"
          ],
          "name": "stdout"
        }
      ]
    },
    {
      "cell_type": "code",
      "metadata": {
        "id": "5Pk8zZIfUyvt",
        "colab_type": "code",
        "colab": {}
      },
      "source": [
        "#dict > hash map or associative array > key - value paris\n",
        "empty_dict ={}\n",
        "d1 = {'a':'some_value','b':[1,2,3,4]}"
      ],
      "execution_count": 0,
      "outputs": []
    },
    {
      "cell_type": "code",
      "metadata": {
        "id": "axrXgOtDnGix",
        "colab_type": "code",
        "colab": {
          "base_uri": "https://localhost:8080/",
          "height": 34
        },
        "outputId": "bef5437b-240f-4c54-c4f1-e2eeb52ddd45"
      },
      "source": [
        "d1\n",
        "d1[7]='an integer'\n",
        "print(d1)"
      ],
      "execution_count": 4,
      "outputs": [
        {
          "output_type": "stream",
          "text": [
            "{'a': 'some_value', 'b': [1, 2, 3, 4], 7: 'an integer'}\n"
          ],
          "name": "stdout"
        }
      ]
    },
    {
      "cell_type": "code",
      "metadata": {
        "id": "8zYOqK8xnXmh",
        "colab_type": "code",
        "colab": {}
      },
      "source": [
        "7 in d1\n",
        "\n",
        "del d1[7]"
      ],
      "execution_count": 0,
      "outputs": []
    },
    {
      "cell_type": "code",
      "metadata": {
        "id": "QrR34aqVn23l",
        "colab_type": "code",
        "colab": {}
      },
      "source": [
        "d1[5]='some value'\n",
        "d1['dummy'] = 'another value'"
      ],
      "execution_count": 0,
      "outputs": []
    },
    {
      "cell_type": "code",
      "metadata": {
        "id": "0Xcw_9A7oR33",
        "colab_type": "code",
        "colab": {}
      },
      "source": [
        "ret = d1.pop('dummy') # equal to del d['dummy']"
      ],
      "execution_count": 0,
      "outputs": []
    },
    {
      "cell_type": "code",
      "metadata": {
        "id": "hdT5A3RRobjP",
        "colab_type": "code",
        "colab": {
          "base_uri": "https://localhost:8080/",
          "height": 67
        },
        "outputId": "fc3bb6a1-79fe-46a0-e9fc-4009d1cf6317"
      },
      "source": [
        "print(list(d1.keys()))\n",
        "print(list(d1.values()))\n",
        "d1.update({'b':'foo','c':12}) #change/add values\n",
        "print(d1)"
      ],
      "execution_count": 17,
      "outputs": [
        {
          "output_type": "stream",
          "text": [
            "['a', 'b', 5]\n",
            "['some_value', [1, 2, 3, 4], 'some value']\n",
            "{'a': 'some_value', 'b': 'foo', 5: 'some value', 'c': 12}\n"
          ],
          "name": "stdout"
        }
      ]
    },
    {
      "cell_type": "code",
      "metadata": {
        "id": "n8MGbKyTo7LI",
        "colab_type": "code",
        "colab": {}
      },
      "source": [
        "#Creating dicts from sequences"
      ],
      "execution_count": 0,
      "outputs": []
    }
  ]
}